{
 "cells": [
  {
   "cell_type": "markdown",
   "metadata": {
    "id": "MaGV6sJnF3Ix"
   },
   "source": [
    "## Assignments\n",
    "\n",
    "1. the `Person` class has a constructor that takes `name` and `age` as arguments and assigns them to the object's attributes. The `introduce` method is then invoked on the object to introduce the person.\n",
    "\n",
    "2. the `Car` class has a constructor that takes `brand` and `model` as arguments and assigns them to the object's attributes. The `display_info` method is then invoked on the object to display the car's brand and model.\n",
    "\n",
    "3. the `BankAccount` class has a constructor that takes `account_number` and `balance` as arguments and assigns them to the object's attributes. The `display_balance` method is then invoked on the object to display the account number and balance.\n",
    "\n",
    "4.  the `MobilePhone` class has a constructor that takes `brand` and `model` as arguments and assigns them to the object's attributes. The `make_call` method is then invoked on the object to make a call with the phone.\n",
    "\n",
    "5. the `Book` class has a constructor that takes `title` and `author` as arguments and assigns them to the object's attributes. The `display_info` method is then invoked on the object to display the book's title and author.\n",
    "\n",
    "6. Vehicles: Create a base class called Vehicle with attributes such as make, model, and year. Implement two subclasses Car and Motorcycle that inherit from Vehicle. Add additional methods to the subclasses, such as start_engine() and stop_engine(), and handle any specific behavior or rules for each vehicle type.\n",
    "\n",
    "7. Animals: Create a base class called Animal with methods such as eat() and sleep(). Implement two subclasses Dog and Cat that inherit from Animal. Add additional methods to the subclasses, such as bark() for dogs and meow() for cats, and handle any specific behavior or rules for each animal type.\n",
    "\n",
    "8. Library Catalog: Create a base class called LibraryItem with attributes such as title, author, and publication_year. Implement two subclasses Book and Magazine that inherit from LibraryItem. Add additional methods to the subclasses, such as checkout() and return_item(), and handle any specific behavior or rules for each item type.\n",
    "\n",
    "9. Employees and Departments: Create a base class called Employee with attributes such as name, salary, and department. Implement two subclasses Manager and Staff that inherit from Employee. Add additional methods to the subclasses, such as assign_task() for managers and attend_meeting() for staff members. Create a separate class called Department that contains a list of employees and methods to add or remove employees from the department.\n",
    "\n",
    "10. Bank Transactions: Create a base class called BankAccount with attributes such as account_number and balance. Implement subclasses for different types of accounts such as CheckingAccount and SavingsAccount that inherit from BankAccount. Add additional methods to the subclasses, such as withdraw() and deposit(), and handle any specific behavior or rules for each account type.\n",
    "\n",
    "11. School Management System: Create a base class called Person with attributes such as name, age, and address. Implement subclasses for different roles such as Student, Teacher, and Staff that inherit from Person. Add additional methods to the subclasses, such as take_exam() for students and teach_subject() for teachers."
   ]
  },
  {
   "cell_type": "code",
   "execution_count": 38,
   "metadata": {
    "id": "iSFgLL77HCOZ"
   },
   "outputs": [
    {
     "name": "stdin",
     "output_type": "stream",
     "text": [
      "please enter your name: loki\n",
      "please enter your age: 56\n"
     ]
    },
    {
     "name": "stdout",
     "output_type": "stream",
     "text": [
      "Hi there, your name is loki and your age is 56\n"
     ]
    }
   ],
   "source": [
    "# Ans 1.\n",
    "\n",
    "class person:\n",
    "    def __init__(self,name,age):\n",
    "        self.name = name\n",
    "        self.age = age\n",
    "\n",
    "    def introduction(self):\n",
    "        print(\"Hi there, your name is\", self.name, \"and your age is\", self.age)\n",
    "        \n",
    "name = input(\"please enter your name:\")\n",
    "age = input(\"please enter your age:\")\n",
    "\n",
    "son = person(name,age)\n",
    "\n",
    "son.introduction()\n",
    "    "
   ]
  },
  {
   "cell_type": "code",
   "execution_count": 44,
   "metadata": {},
   "outputs": [
    {
     "name": "stdin",
     "output_type": "stream",
     "text": [
      "Please Enter The Car Model: m340i\n",
      "Please Enter The Car Brand: bmw\n"
     ]
    },
    {
     "name": "stdout",
     "output_type": "stream",
     "text": [
      "Your car brand is: bmw And model is: m340i\n"
     ]
    }
   ],
   "source": [
    "# Ans 2.\n",
    "    \n",
    "class Car:\n",
    "    def __init__(self,model,brand):\n",
    "        self.model = model\n",
    "        self.brand = brand\n",
    "\n",
    "    def display_info(self):\n",
    "        print(\"Your car brand is:\", self.brand, \"And model is:\", self.model)\n",
    "\n",
    "model = input(\"Please Enter The Car Model:\")\n",
    "brand = input(\"Please Enter The Car Brand:\")\n",
    "\n",
    "car = Car(model,brand)\n",
    "\n",
    "car.display_info()"
   ]
  },
  {
   "cell_type": "code",
   "execution_count": 24,
   "metadata": {},
   "outputs": [
    {
     "name": "stdin",
     "output_type": "stream",
     "text": [
      "please enter your account number: 6457777\n",
      "please enter account balance: 12345658758587687\n"
     ]
    },
    {
     "name": "stdout",
     "output_type": "stream",
     "text": [
      "your account number is: 6457777 and your balance is: 12345658758587687\n"
     ]
    }
   ],
   "source": [
    "# Ans 3\n",
    "\n",
    "class BankAccount:\n",
    "    def __init__(self,acc_number,balance):\n",
    "        self.acc_number = acc_number\n",
    "        self.balance = balance \n",
    "\n",
    "    def display_balance(self):\n",
    "        print(\"your account number is:\", self.acc_number, \"and your balance is:\", self.balance)\n",
    "\n",
    "acc_number = input(\"please enter your account number:\")\n",
    "balance = input(\"please enter account balance:\")\n",
    "\n",
    "bank = BankAccount(acc_number,balance)\n",
    "\n",
    "bank.display_balance()"
   ]
  },
  {
   "cell_type": "code",
   "execution_count": 4,
   "metadata": {},
   "outputs": [
    {
     "name": "stdin",
     "output_type": "stream",
     "text": [
      "Please enter your mobile phone brand: ititiuyiuy\n",
      "plese enter your mobile phone model: tryutryutiy\n",
      "please enter phone number you want to call: truryut\n"
     ]
    },
    {
     "name": "stdout",
     "output_type": "stream",
     "text": [
      "calling truryut with ititiuyiuy tryutryutiy\n"
     ]
    }
   ],
   "source": [
    "# Ans 4.\n",
    "\n",
    "class MobilePhone:\n",
    "    def __init__(self,brand,model,phonenumber):\n",
    "        self.brand = brand\n",
    "        self.model = model\n",
    "        self.phonenumber = phonenumber\n",
    "\n",
    "    def make_call(self):\n",
    "        print(\"calling\", self.phonenumber, \"with\", self.brand, self.model)\n",
    "\n",
    "brand = input(\"Please enter your mobile phone brand:\")\n",
    "model = input(\"plese enter your mobile phone model:\")\n",
    "phonenumber = input(\"please enter phone number you want to call:\")\n",
    "\n",
    "mobile = MobilePhone(brand,model,phonenumber)\n",
    "\n",
    "mobile.make_call()"
   ]
  },
  {
   "cell_type": "code",
   "execution_count": 26,
   "metadata": {},
   "outputs": [
    {
     "name": "stdin",
     "output_type": "stream",
     "text": [
      "Please Enter The Car Model: kjlkj\n",
      "Please Enter The Car Brand: sfsf\n"
     ]
    },
    {
     "name": "stdout",
     "output_type": "stream",
     "text": [
      "The book name is: kjlkj And it's author is: sfsf\n"
     ]
    }
   ],
   "source": [
    "# Ans5\n",
    "\n",
    "class Book:\n",
    "    def __init__(self,title,author):\n",
    "        self.title = title\n",
    "        self.author = author\n",
    "\n",
    "    def display_info(self):\n",
    "        print(\"The book name is:\", self.title, \"And it's author is:\", self.author)\n",
    "\n",
    "title = input(\"Please Enter The Car Model:\")\n",
    "author = input(\"Please Enter The Car Brand:\")\n",
    "\n",
    "book = Book(title,author)\n",
    "\n",
    "book.display_info()"
   ]
  },
  {
   "cell_type": "code",
   "execution_count": 18,
   "metadata": {},
   "outputs": [
    {
     "name": "stdin",
     "output_type": "stream",
     "text": [
      "please enter brand name: bmw\n",
      "please enter model: m340i\n",
      "please enter model year: 2024\n"
     ]
    },
    {
     "name": "stdout",
     "output_type": "stream",
     "text": [
      "the engine of the m340i is now starting\n",
      "the m340i says honk honk\n",
      "the engine of the m340i is now starting\n",
      "the engine of the m340i is now starting\n",
      "the m340i revs its engine: vroom vroom\n",
      "the engine of the m340i is now starting\n"
     ]
    }
   ],
   "source": [
    "# ans 6.\n",
    "\n",
    "class Vehicles:\n",
    "    def __init__(self,brand,model,year):\n",
    "        self.brand = brand\n",
    "        self.model = model\n",
    "        self.year = year\n",
    "\n",
    "brand = input(\"please enter brand name:\")\n",
    "model = input(\"please enter model:\")\n",
    "year = input(\"please enter model year:\")\n",
    "\n",
    "class Motorcycle(Vehicles):\n",
    "    def __init__(self,brand,model,year):\n",
    "        super().__init__(brand,model,year)\n",
    "\n",
    "    def honk(self):\n",
    "        print(\"the\", self.model, \"says honk honk\")\n",
    "\n",
    "    def rev_engine(self):\n",
    "        print( \"the\", self.model, \"revs its engine: vroom vroom\")\n",
    "\n",
    "    def start_engine(self):\n",
    "        print(\"the engine of the\", self.model, \"is now starting\")\n",
    "        \n",
    "    def stop_engine(self):\n",
    "        print(\"the engine of the\", self.model, \"is now starting\")\n",
    "\n",
    "\n",
    "class Car(Vehicles):\n",
    "    def __init__(self,brand,model,year):\n",
    "        super().__init__(brand,model,year)\n",
    "\n",
    "    def honk(self):\n",
    "        print(\"the\", self.model, \"says honk honk\")\n",
    "\n",
    "    def rev_engine(self):\n",
    "        print( \"the\", self.model, \"revs its engine: vroom vroom\")\n",
    "\n",
    "    def start_engine(self):\n",
    "        print(\"the engine of the\", self.model, \"is now starting\")\n",
    "        \n",
    "    def stop_engine(self):\n",
    "        print(\"the engine of the\", self.model, \"is now starting\")\n",
    "\n",
    "car = Car(brand,model,year)\n",
    "motorcycle = Motorcycle(brand,model,year)\n",
    "        \n",
    "car.start_engine()\n",
    "car.honk()\n",
    "car.stop_engine()\n",
    "\n",
    "motorcycle.start_engine()\n",
    "motorcycle.rev_engine()\n",
    "motorcycle.stop_engine()"
   ]
  },
  {
   "cell_type": "code",
   "execution_count": 30,
   "metadata": {},
   "outputs": [
    {
     "name": "stdin",
     "output_type": "stream",
     "text": [
      "Enter the animal name: kjkjh\n"
     ]
    },
    {
     "name": "stdout",
     "output_type": "stream",
     "text": [
      "The kjkjh says meow meow\n"
     ]
    }
   ],
   "source": [
    "# Ans 7.\n",
    "\n",
    "class Animal:\n",
    "    def __init__(self,animals):\n",
    "        self.animals = animals\n",
    "\n",
    "    def eat(self):\n",
    "        print(\"The\", self.animals, \"is eating\")\n",
    "\n",
    "    def sleep(self):\n",
    "        print(\"The\", self.animals, \"is sleeping\")\n",
    "\n",
    "animals = input(\"Enter the animal name:\")\n",
    "\n",
    "class cat(Animal):\n",
    "    def __init__(self,animals):\n",
    "        super().__init__(animals)\n",
    "        \n",
    "    def meow(self):\n",
    "        print(\"The\", self.animals, \"says meow meow\")\n",
    "\n",
    "class dog(Animal):\n",
    "    def __init__(self,animals):\n",
    "        super().__init__(animals)\n",
    "\n",
    "    def bark(self):\n",
    "        print(\"The\",self.animals, \"barks woof woof\")\n",
    "\n",
    "Cat = cat(animals)\n",
    "\n",
    "Cat.meow()\n",
    "  \n",
    "    "
   ]
  },
  {
   "cell_type": "code",
   "execution_count": 8,
   "metadata": {},
   "outputs": [
    {
     "name": "stdin",
     "output_type": "stream",
     "text": [
      "Enter the title of book: jlkj\n",
      "Enter the authors name: lkjlkj\n",
      "Enter the publsih year of the book: kjlkj\n"
     ]
    },
    {
     "name": "stdout",
     "output_type": "stream",
     "text": [
      "The jlkj has been checked out\n",
      "remember to return the book within 10 days\n",
      "The jlkj has been checked out\n",
      "remember to return the magazine within 5 days\n"
     ]
    }
   ],
   "source": [
    "# Ans 8.\n",
    "\n",
    "class LibraryItem:\n",
    "    def __init__(self,title,author,publish_year):\n",
    "        self.title = title\n",
    "        self.author = author\n",
    "        self.publish_year = publish_year\n",
    "\n",
    "title = input(\"Enter the title of book:\")\n",
    "author = input(\"Enter the authors name:\")\n",
    "publish_year = input(\"Enter the publsih year of the book:\")\n",
    "\n",
    "\n",
    "class Book(LibraryItem):\n",
    "    def __init__(self,title,auhtor,publish_year):\n",
    "        super().__init__(title,author,publish_year)\n",
    "\n",
    "    def checkout(self):\n",
    "        print(\"The\", self.title, \"has been checked out\")\n",
    "        print(\"remember to return the book within 10 days\")\n",
    "\n",
    "    def Return(self):\n",
    "        print(\"The\", self.title, \"has been returned\") \n",
    "\n",
    "class Magazine(LibraryItem):\n",
    "    def __init__(self,title,auhtor,publish_year):\n",
    "        super().__init__(title,author,publish_year)\n",
    "\n",
    "    def checkout(self):\n",
    "        print(\"The\", self.title, \"has been checked out\")\n",
    "        print(\"remember to return the magazine within 5 days\")\n",
    "\n",
    "    def Return(self):\n",
    "        print(\"The\", self.title, \"has been returned\")  \n",
    "\n",
    "    \n",
    "        \n",
    "book = Book(title,author,publish_year)      \n",
    "magazine = Magazine(title,author,publish_year) \n",
    "\n",
    "\n",
    "book.checkout()\n",
    "magazine.checkout()                    \n",
    "                    \n",
    "        "
   ]
  },
  {
   "cell_type": "code",
   "execution_count": 4,
   "metadata": {},
   "outputs": [
    {
     "name": "stdin",
     "output_type": "stream",
     "text": [
      "Enter your name: jkljlkj\n",
      "please enter your monthly salary: 98787\n",
      "please enter your department: it\n",
      "please enter the name: lokendra\n"
     ]
    },
    {
     "name": "stdout",
     "output_type": "stream",
     "text": [
      "lokendra has been added to the department\n",
      "['lokendra']\n"
     ]
    }
   ],
   "source": [
    "# Ans 9.\n",
    "\n",
    "class Employee:\n",
    "    def __init__(self,name,salary,department):\n",
    "        self.name = name\n",
    "        self.salary = salary\n",
    "        self.department = department\n",
    "\n",
    "    def info(self):\n",
    "        print(self.name, \"works in\", self.department, \"with the salary of\", self.salary)\n",
    "\n",
    "name = input(\"Enter your name:\")\n",
    "salary = input(\"please enter your monthly salary:\")\n",
    "department = input(\"please enter your department:\")\n",
    "\n",
    "class Manager(Employee):\n",
    "    def __init__(self,name,salary,department):\n",
    "        super().__init__(name,salary,department)\n",
    "\n",
    "    def assign_task(self):\n",
    "        print(\"The manager has assigned\", self.name, \"a task\")\n",
    "\n",
    "class Staff(Employee):\n",
    "    def __init__(self,name,salary,department):\n",
    "        super().__init__(name,salary,department)\n",
    "\n",
    "    def attend_meeting(self):\n",
    "        print(\"The\",self.name, \"is attending a meeting\")\n",
    "\n",
    "\n",
    "class Department:\n",
    "    def __init__(self,):\n",
    "        self.employee_list = []\n",
    "\n",
    "    def add_employee(self,employee_name):\n",
    "        self.employee_name = employee_name\n",
    "        self.employee_list.append(employee_name)\n",
    "        print(self.employee_name, \"has been added to the department\")\n",
    "\n",
    "    def remove_employee(self,employee_name):\n",
    "        self.employee_name = employee_name\n",
    "        self.employee_list.remove(employee_name)\n",
    "        print(self.employee_name, \"has been fired from the department\")\n",
    "\n",
    "    def view_staff(self):\n",
    "        print(self.employee_list)\n",
    "\n",
    "employee_name =input(\"please enter the name:\")\n",
    "\n",
    "department = Department()\n",
    "department.add_employee(employee_name)\n",
    "department.view_staff()\n",
    "# department.remove_employee(employee_name)\n",
    "# department.add_employee(employee_name)\n",
    "# department.add_employee(employee_name)\n",
    "# department.add_employee(employee_name)\n",
    "# department.view_staff()\n"
   ]
  },
  {
   "cell_type": "code",
   "execution_count": 29,
   "metadata": {},
   "outputs": [
    {
     "name": "stdout",
     "output_type": "stream",
     "text": [
      "900 has been credited in brkgb45555\n",
      "700 has been debited from account: brkgb45555\n"
     ]
    },
    {
     "data": {
      "text/plain": [
       "280"
      ]
     },
     "execution_count": 29,
     "metadata": {},
     "output_type": "execute_result"
    }
   ],
   "source": [
    "# Ans 10.\n",
    "\n",
    "class BankAccount:\n",
    "    def __init__(self,account_number,balance=0.0):\n",
    "        self.account_number = account_number\n",
    "        self.balance = balance\n",
    "\n",
    "    def get_balance(self):\n",
    "        return self.balance\n",
    "\n",
    "# account_number = (input(\"please enter your account number:\"))\n",
    "\n",
    "\n",
    "class Checkingaccount(BankAccount):\n",
    "    def __init__(self,account_number,balance=0.0):\n",
    "        super().__init__(account_number,balance)\n",
    "\n",
    "    def deposit(self,amount):\n",
    "        self.amount = amount\n",
    "        \n",
    "        if amount > 0:\n",
    "            self.balance += amount\n",
    "            print(self.amount, \"has been credited in\",self.account_number,)\n",
    "\n",
    "        else:\n",
    "            print(\"please enter correct value\")\n",
    "\n",
    "    def withdraw(self,amount):\n",
    "        self.amount = amount\n",
    "        \n",
    "        if amount <= self.balance:\n",
    "            self.balance -= amount\n",
    "            print(self.amount, \"has been debited from account:\", self.account_number)\n",
    "\n",
    "        else:\n",
    "            print(\"please enter correct value\")\n",
    "\n",
    "\n",
    "class Savings_Account(BankAccount):\n",
    "    def __init__(self,account_number,balance=0.0):\n",
    "        super().__init__(account_number,balance)\n",
    "\n",
    "    def deposit(self,amount):\n",
    "        self.amount = amount\n",
    "        \n",
    "        if amount > 0:\n",
    "            self.balance += amount\n",
    "            print(self.amount, \"has been credited in\",self.account_number,)\n",
    "\n",
    "        else:\n",
    "            print(\"please enter correct value\")\n",
    "\n",
    "    def withdraw(self,amount):\n",
    "        self.amount = amount\n",
    "        \n",
    "        if amount <= self.balance:\n",
    "            self.balance -= amount\n",
    "            print(self.amount, \"has been debited from account:\", self.account_number)\n",
    "\n",
    "        else:\n",
    "            print(\"please enter correct value\")\n",
    "\n",
    "\n",
    "checking = Checkingaccount('brkgb45555',80)\n",
    "checking.deposit(900)\n",
    "checking.get_balance()\n",
    "checking.withdraw(700)\n",
    "checking.get_balance()"
   ]
  },
  {
   "cell_type": "code",
   "execution_count": null,
   "metadata": {},
   "outputs": [],
   "source": [
    "School Management System: Create a base class called Person with attributes such as name, age, and address. \n",
    "Implement subclasses for different roles such as Student, Teacher, and Staff that inherit from Person.\n",
    "Add additional methods to the subclasses, such as take_exam() for students and teach_subject() for teachers.\n",
    "\n"
   ]
  },
  {
   "cell_type": "code",
   "execution_count": 76,
   "metadata": {},
   "outputs": [
    {
     "name": "stdout",
     "output_type": "stream",
     "text": [
      "loki give your exam\n"
     ]
    }
   ],
   "source": [
    "# Ans 11\n",
    "\n",
    "class Person:\n",
    "    def __init__(self,name,age,address):\n",
    "        self.name = name\n",
    "        self.age = age\n",
    "        self.address = address\n",
    "\n",
    "    def info(self):\n",
    "        print(\"Hello!\", self.name,\"your age is:\", self.age, \"and your address is:\", self.address) \n",
    "\n",
    "# name =  input(\"please enter your name:\")\n",
    "# age = input(\"Enter your age:\")\n",
    "# address = input(\"Enter your address:\")\n",
    "\n",
    "class Student(Person):\n",
    "    def __init__(self,name,age,address):\n",
    "        super().__init__(name,age,address)\n",
    "        \n",
    "    def take_exam(self,child_name):\n",
    "        self.child_name = child_name\n",
    "        print(self.child_name,\"give your exam\")\n",
    "\n",
    "class Teachers(Person):\n",
    "    def __init__(self,teacher_name,subject):\n",
    "        self.teacher_name = teacher_name\n",
    "        self.subject = subject\n",
    "\n",
    "    def teach_subject(self,teacher_name,subject):\n",
    "        print(self.teacher, \"teach your respective subject:\", self.subject)\n",
    "\n",
    "\n",
    "student_1 = Student(\"lokendra\",\"21\",\"alwar\")\n",
    "student_1.take_exam(\"loki\")\n"
   ]
  },
  {
   "cell_type": "code",
   "execution_count": null,
   "metadata": {},
   "outputs": [],
   "source": []
  }
 ],
 "metadata": {
  "colab": {
   "provenance": []
  },
  "kernelspec": {
   "display_name": "Python 3 (ipykernel)",
   "language": "python",
   "name": "python3"
  },
  "language_info": {
   "codemirror_mode": {
    "name": "ipython",
    "version": 3
   },
   "file_extension": ".py",
   "mimetype": "text/x-python",
   "name": "python",
   "nbconvert_exporter": "python",
   "pygments_lexer": "ipython3",
   "version": "3.12.4"
  }
 },
 "nbformat": 4,
 "nbformat_minor": 4
}
