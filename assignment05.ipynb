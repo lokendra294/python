{
 "cells": [
  {
   "cell_type": "code",
   "execution_count": 1,
   "id": "943d77dd-d199-45b1-92c1-9db5c293beee",
   "metadata": {},
   "outputs": [],
   "source": [
    "import numpy as np"
   ]
  },
  {
   "cell_type": "code",
   "execution_count": 80,
   "id": "7477ca27-f5eb-4bf2-a1f0-74e0867e289f",
   "metadata": {},
   "outputs": [],
   "source": [
    "import pandas as pd"
   ]
  },
  {
   "cell_type": "code",
   "execution_count": 28,
   "id": "08cab255-802a-45a8-9915-a02d510aaf0b",
   "metadata": {},
   "outputs": [
    {
     "name": "stdout",
     "output_type": "stream",
     "text": [
      "15\n"
     ]
    }
   ],
   "source": [
    "def array_sum(arr):\n",
    "    return np.sum(arr)\n",
    "\n",
    "result = array_sum(np.array([1, 2, 3, 4, 5]))\n",
    "print(result)"
   ]
  },
  {
   "cell_type": "code",
   "execution_count": 30,
   "id": "a10b3b37-b999-48a3-badb-34adaf95bdae",
   "metadata": {},
   "outputs": [
    {
     "name": "stdout",
     "output_type": "stream",
     "text": [
      "32\n"
     ]
    }
   ],
   "source": [
    "def dot_product(vec1, vec2):\n",
    "    return np.dot(vec1, vec2)\n",
    "\n",
    "result = dot_product(np.array([1, 2, 3]), np.array([4, 5, 6]))\n",
    "print(result)\n"
   ]
  },
  {
   "cell_type": "code",
   "execution_count": 32,
   "id": "3aa85626-ae7b-48a6-b5a1-7c1c16a2b5bb",
   "metadata": {},
   "outputs": [
    {
     "name": "stdout",
     "output_type": "stream",
     "text": [
      "[5 7 9]\n"
     ]
    }
   ],
   "source": [
    "def add_arrays(arr1, arr2):\n",
    "    return np.add(arr1, arr2)\n",
    "\n",
    "result = add_arrays(np.array([1, 2, 3]), np.array([4, 5, 6]))\n",
    "print(result)"
   ]
  },
  {
   "cell_type": "code",
   "execution_count": 48,
   "id": "467eec00-9ae6-4050-887b-798720358e7a",
   "metadata": {},
   "outputs": [
    {
     "name": "stdout",
     "output_type": "stream",
     "text": [
      "Attendance for John Doe has been marked present on 2024-09-20\n",
      "Attendance for John Doe has been marked absent on 2024-09-21\n",
      "Attendance for John Doe has been marked present on 2024-09-22\n",
      "Attendance Record: {'2024-09-20': 'present', '2024-09-21': 'absent', '2024-09-22': 'present'}\n"
     ]
    },
    {
     "data": {
      "text/plain": [
       "66.66666666666666"
      ]
     },
     "execution_count": 48,
     "metadata": {},
     "output_type": "execute_result"
    }
   ],
   "source": [
    "class Student:\n",
    "    def __init__(self, name, age, grade, student_id):\n",
    "        self.name = name\n",
    "        self.age = age\n",
    "        self.grade = grade\n",
    "        self.student_id = student_id\n",
    "        self.attendance = {}  \n",
    "\n",
    "    def update_attendance(self,date,status):\n",
    "        self.attendance[date] = status\n",
    "        print(f\"Attendance for {student.name} has been marked {status} on {date}\")\n",
    "\n",
    "    def get_attendance(self):\n",
    "        return self.attendance\n",
    "\n",
    "    def get_average_attendance(self):\n",
    "        total_days = len(self.attendance)\n",
    "        if total_days == 0:\n",
    "            return 0\n",
    "\n",
    "        present_days = 0\n",
    "        for status in self.attendance.values():\n",
    "            if status == \"present\":\n",
    "                present_days += 1\n",
    "\n",
    "        attendance_percentage = (present_days / total_days) * 100\n",
    "        return attendance_percentage\n",
    "\n",
    "student = Student(\"John Doe\", 16, \"10th Grade\", \"S12345\")\n",
    "\n",
    "student.update_attendance(\"2024-09-20\", \"present\")\n",
    "student.update_attendance(\"2024-09-21\", \"absent\")\n",
    "student.update_attendance(\"2024-09-22\", \"present\")\n",
    "\n",
    "attendance_record = student.get_attendance()\n",
    "print(\"Attendance Record:\", attendance_record)\n",
    "\n",
    "student.get_average_attendance()"
   ]
  },
  {
   "cell_type": "code",
   "execution_count": 66,
   "id": "13b2bec5-7f9a-4efc-b26f-8a8a048fa187",
   "metadata": {},
   "outputs": [
    {
     "name": "stdin",
     "output_type": "stream",
     "text": [
      "\n",
      "            Hi, how can I help you?\n",
      "            1. Create a PIN\n",
      "            2. Deposit\n",
      "            3. Withdraw\n",
      "            4. Check Balance\n",
      "            5. Exit\n",
      "            Please enter your choice: \n",
      "             1\n",
      "Please enter your new PIN: 1234\n"
     ]
    },
    {
     "name": "stdout",
     "output_type": "stream",
     "text": [
      "PIN set successfully!\n"
     ]
    },
    {
     "name": "stdin",
     "output_type": "stream",
     "text": [
      "\n",
      "            Hi, how can I help you?\n",
      "            1. Create a PIN\n",
      "            2. Deposit\n",
      "            3. Withdraw\n",
      "            4. Check Balance\n",
      "            5. Exit\n",
      "            Please enter your choice: \n",
      "             2\n",
      "Please Enter your PIN: 1234\n",
      "Please enter the amount to deposit: 5500000\n"
     ]
    },
    {
     "name": "stdout",
     "output_type": "stream",
     "text": [
      "Your amount 5500000.0 has been deposited\n"
     ]
    },
    {
     "name": "stdin",
     "output_type": "stream",
     "text": [
      "\n",
      "            Hi, how can I help you?\n",
      "            1. Create a PIN\n",
      "            2. Deposit\n",
      "            3. Withdraw\n",
      "            4. Check Balance\n",
      "            5. Exit\n",
      "            Please enter your choice: \n",
      "             5\n"
     ]
    },
    {
     "name": "stdout",
     "output_type": "stream",
     "text": [
      "Thank you! Exiting...\n"
     ]
    }
   ],
   "source": [
    "class ATM:\n",
    "    def __init__(self):\n",
    "        self.pin = \"\"\n",
    "        self.balance = 0\n",
    "        self.menu()\n",
    "\n",
    "    def menu(self):\n",
    "        while True:\n",
    "            user_input=input(\"\"\"\n",
    "            Hi, how can I help you?\n",
    "            1. Create a PIN\n",
    "            2. Deposit\n",
    "            3. Withdraw\n",
    "            4. Check Balance\n",
    "            5. Exit\n",
    "            Please enter your choice: \n",
    "            \"\"\")\n",
    "            if user_input==\"1\":\n",
    "                self.create_pin()\n",
    "            elif user_input==\"2\":\n",
    "                self.deposit()\n",
    "            elif user_input==\"3\":\n",
    "                self.withdraw()\n",
    "            elif user_input==\"4\":\n",
    "                self.check_balance()\n",
    "            elif user_input==\"5\":\n",
    "                print(\"Thank you! Exiting...\")\n",
    "                break\n",
    "            else:\n",
    "                print(\"Invalid input! try again\")\n",
    "\n",
    "    def create_pin(self):\n",
    "        self.pin = input(\"Please enter your new PIN:\")\n",
    "        print(\"PIN set successfully!\")\n",
    "\n",
    "\n",
    "    def deposit(self):\n",
    "        temp_pin = input(\"Please Enter your PIN:\")\n",
    "        if temp_pin == self.pin:\n",
    "            amount = float(input(\"Please enter the amount to deposit:\"))\n",
    "            self.balance += amount\n",
    "            print(\"Your amount\", amount, \"has been deposited\")\n",
    "\n",
    "        else:\n",
    "            print(\"Wrong PIN\")\n",
    "\n",
    "    def wihtdraw(self):\n",
    "        temp_pin = input(\"Please Enter your PIN:\")\n",
    "        if temp_pin == self.pin:\n",
    "            amount = float(input(\"Please enter the amount to withdraw:\"))\n",
    "            if amount <= self.balance:\n",
    "                self.balance -= amount\n",
    "            else:\n",
    "                print(\"Insufficient balance\")\n",
    "        else:\n",
    "            print(\"Wrong PIN\")\n",
    "\n",
    "\n",
    "def check_balance(self):\n",
    "    return self.balance\n",
    "\n",
    "kjk=ATM()"
   ]
  },
  {
   "cell_type": "code",
   "execution_count": 148,
   "id": "1c4e78b4-4154-49da-a603-2a8784ca63f0",
   "metadata": {},
   "outputs": [
    {
     "name": "stdout",
     "output_type": "stream",
     "text": [
      "ticket: T12345 has been reserved for A12\n",
      "T12345 is reserved\n",
      "Event date: 2024-10-12\n",
      "Event name: Concert of Legends\n",
      "venue: Grand Arena\n",
      "seat number: A12\n",
      "Price: 150.0\n"
     ]
    }
   ],
   "source": [
    "# Ans 8.\n",
    "\n",
    "class Ticket:\n",
    "    \n",
    "    def __init__(self,ticket_id,event_name,event_date,venue,seat_number,price):\n",
    "        self.ticket_id = ticket_id\n",
    "        self.event_date = event_date\n",
    "        self.event_name = event_name\n",
    "        self.venue = venue\n",
    "        self.seat_number = seat_number\n",
    "        self.price = price\n",
    "        self.is_reserved = []\n",
    "        \n",
    "\n",
    "    def reserve_ticket(self):\n",
    "        for i in self.is_reserved:\n",
    "            if i == self.ticket_id:\n",
    "                print(self.ticket_id,\"has already been reserved\")\n",
    "                break\n",
    "                \n",
    "        else:\n",
    "            self.is_reserved.append(self.ticket_id)\n",
    "            print(\"ticket:\",self.ticket_id,\"has been reserved for\",self.seat_number)\n",
    "\n",
    "    def cancel_reservation(self):\n",
    "        self.is_reserved.remove(self.ticket_id)\n",
    "        print(\"ticket:\",self.ticket_id,\"has been cancelled for\",self.seat_number)\n",
    "\n",
    "    def display_ticket_info(self):\n",
    "        for i in self.is_reserved:\n",
    "            if i == self.ticket_id:\n",
    "                print(self.ticket_id,\"is reserved\")\n",
    "                print(\"Event date:\",self.event_date)\n",
    "                print(\"Event name:\", self.event_name)\n",
    "                print(\"venue:\", self.venue)\n",
    "                print(\"seat number:\", self.seat_number)\n",
    "                print(\"Price:\", self.price)\n",
    "                break  \n",
    "        else:\n",
    "            print(self.ticket_id,\"is not reserved\")\n",
    "\n",
    "\n",
    "tiket = Ticket(\"T12345\", \"Concert of Legends\", \"2024-10-12\", \"Grand Arena\", \"A12\", 150.00)\n",
    "tiket.reserve_ticket()\n",
    "tiket.display_ticket_info()"
   ]
  },
  {
   "cell_type": "code",
   "execution_count": 71,
   "id": "ab6b2326-76e6-4e83-a874-98c29c019198",
   "metadata": {},
   "outputs": [
    {
     "name": "stdout",
     "output_type": "stream",
     "text": [
      "17 is a prime number.\n"
     ]
    }
   ],
   "source": [
    "def is_prime(number):\n",
    "    if number <= 1:\n",
    "        return False\n",
    "    for i in range(2, int(number ** 0.5) + 1):\n",
    "        if number % i == 0:\n",
    "            return False\n",
    "    return True\n",
    "\n",
    "num = 17\n",
    "if is_prime(num):\n",
    "    print(num,\"is a prime number.\")\n",
    "else:\n",
    "    print(num,\"is not a prime number.\")\n"
   ]
  },
  {
   "cell_type": "code",
   "execution_count": 69,
   "id": "251ffb9c-f566-460b-abfe-5c0c82c70c6b",
   "metadata": {},
   "outputs": [
    {
     "name": "stdout",
     "output_type": "stream",
     "text": [
      "42 is Even.\n"
     ]
    }
   ],
   "source": [
    "def is_odd_even(number):\n",
    "    if number % 2 == 0:\n",
    "        return \"Even\"\n",
    "    else:\n",
    "        return \"Odd\"\n",
    "\n",
    "num = 42\n",
    "print(f\"{num} is {is_odd_even(num)}.\")\n"
   ]
  },
  {
   "cell_type": "code",
   "execution_count": 82,
   "id": "f2ed108c-8e59-43a7-b3ce-9c5644742ce3",
   "metadata": {},
   "outputs": [
    {
     "name": "stdout",
     "output_type": "stream",
     "text": [
      "[[4.         4.         4.         3.         4.         4.\n",
      "  4.         3.         3.         4.        ]\n",
      " [3.         3.         4.         3.         3.         4.\n",
      "  4.         3.         3.         3.        ]\n",
      " [4.         3.         4.         4.         3.         4.\n",
      "  3.         3.         3.         4.        ]\n",
      " [3.         4.         3.         3.         4.         3.\n",
      "  3.         4.         4.         4.        ]\n",
      " [4.         4.         3.         3.         3.         3.\n",
      "  3.         4.         4.         4.        ]\n",
      " [0.75802077 0.10008458 0.93609624 0.51823775 0.98557922 0.59017073\n",
      "  0.10910816 0.40740143 0.08764223 0.97372445]\n",
      " [0.84720151 0.62789411 0.10138414 0.8942513  0.15076128 0.93048658\n",
      "  0.03667688 0.46630783 0.33873022 0.84421918]\n",
      " [0.41997575 0.08763367 0.96341965 0.55279223 0.48874263 0.29897477\n",
      "  0.8378688  0.7387528  0.5023532  0.42394757]\n",
      " [0.04315464 0.16969153 0.04359738 0.35649456 0.69332643 0.16669122\n",
      "  0.55216191 0.85282704 0.84835858 0.43984859]\n",
      " [0.21601952 0.12728839 0.32065555 0.87440435 0.0680898  0.51377577\n",
      "  0.8193717  0.03098364 0.81266524 0.872602  ]]\n"
     ]
    }
   ],
   "source": [
    "from numpy import random\n",
    "\n",
    "x = random.randint(3,5, size=(5,10))\n",
    "\n",
    "y = random.rand(5,10)\n",
    "\n",
    "arr = np.concatenate((x,y))\n",
    "print(arr)"
   ]
  },
  {
   "cell_type": "code",
   "execution_count": 84,
   "id": "d210d635-c7d5-4a9c-b85f-d01705fac705",
   "metadata": {},
   "outputs": [
    {
     "data": {
      "text/plain": [
       "array([[4.75802077, 4.10008458, 4.93609624, 3.51823775, 4.98557922,\n",
       "        4.59017073, 4.10910816, 3.40740143, 3.08764223, 4.97372445],\n",
       "       [3.84720151, 3.62789411, 4.10138414, 3.8942513 , 3.15076128,\n",
       "        4.93048658, 4.03667688, 3.46630783, 3.33873022, 3.84421918],\n",
       "       [4.41997575, 3.08763367, 4.96341965, 4.55279223, 3.48874263,\n",
       "        4.29897477, 3.8378688 , 3.7387528 , 3.5023532 , 4.42394757],\n",
       "       [3.04315464, 4.16969153, 3.04359738, 3.35649456, 4.69332643,\n",
       "        3.16669122, 3.55216191, 4.85282704, 4.84835858, 4.43984859],\n",
       "       [4.21601952, 4.12728839, 3.32065555, 3.87440435, 3.0680898 ,\n",
       "        3.51377577, 3.8193717 , 4.03098364, 4.81266524, 4.872602  ]])"
      ]
     },
     "execution_count": 84,
     "metadata": {},
     "output_type": "execute_result"
    }
   ],
   "source": [
    "x+y"
   ]
  },
  {
   "cell_type": "code",
   "execution_count": 86,
   "id": "5c904640-6766-4b86-a18e-1ebec71e6d5e",
   "metadata": {},
   "outputs": [
    {
     "data": {
      "text/plain": [
       "array([  1.        ,  12.25641026,  23.51282051,  34.76923077,\n",
       "        46.02564103,  57.28205128,  68.53846154,  79.79487179,\n",
       "        91.05128205, 102.30769231, 113.56410256, 124.82051282,\n",
       "       136.07692308, 147.33333333, 158.58974359, 169.84615385,\n",
       "       181.1025641 , 192.35897436, 203.61538462, 214.87179487,\n",
       "       226.12820513, 237.38461538, 248.64102564, 259.8974359 ,\n",
       "       271.15384615, 282.41025641, 293.66666667, 304.92307692,\n",
       "       316.17948718, 327.43589744, 338.69230769, 349.94871795,\n",
       "       361.20512821, 372.46153846, 383.71794872, 394.97435897,\n",
       "       406.23076923, 417.48717949, 428.74358974, 440.        ])"
      ]
     },
     "execution_count": 86,
     "metadata": {},
     "output_type": "execute_result"
    }
   ],
   "source": [
    "np.linspace(1,440,40)"
   ]
  },
  {
   "cell_type": "code",
   "execution_count": 94,
   "id": "446702f8-b094-4b6f-b043-b1d2c4974084",
   "metadata": {},
   "outputs": [
    {
     "data": {
      "text/plain": [
       "array([[  1.        ,  12.25641026],\n",
       "       [ 23.51282051,  34.76923077],\n",
       "       [ 46.02564103,  57.28205128],\n",
       "       [ 68.53846154,  79.79487179],\n",
       "       [ 91.05128205, 102.30769231],\n",
       "       [113.56410256, 124.82051282],\n",
       "       [136.07692308, 147.33333333],\n",
       "       [158.58974359, 169.84615385],\n",
       "       [181.1025641 , 192.35897436],\n",
       "       [203.61538462, 214.87179487],\n",
       "       [226.12820513, 237.38461538],\n",
       "       [248.64102564, 259.8974359 ],\n",
       "       [271.15384615, 282.41025641],\n",
       "       [293.66666667, 304.92307692],\n",
       "       [316.17948718, 327.43589744],\n",
       "       [338.69230769, 349.94871795],\n",
       "       [361.20512821, 372.46153846],\n",
       "       [383.71794872, 394.97435897],\n",
       "       [406.23076923, 417.48717949],\n",
       "       [428.74358974, 440.        ]])"
      ]
     },
     "execution_count": 94,
     "metadata": {},
     "output_type": "execute_result"
    }
   ],
   "source": [
    "np.linspace(1,440,40).reshape(20,2)"
   ]
  },
  {
   "cell_type": "code",
   "execution_count": 96,
   "id": "81e571d1-86b2-45c8-be5a-967da8fddce3",
   "metadata": {},
   "outputs": [],
   "source": [
    "df=pd.read_json('iris.json')"
   ]
  },
  {
   "cell_type": "code",
   "execution_count": 98,
   "id": "da60dc19-4019-4e83-ae07-93ecb334e729",
   "metadata": {},
   "outputs": [
    {
     "name": "stdout",
     "output_type": "stream",
     "text": [
      "     sepalLength  sepalWidth  petalLength  petalWidth    species\n",
      "0            5.1         3.5          1.4         0.2     setosa\n",
      "1            4.9         3.0          1.4         0.2     setosa\n",
      "2            4.7         3.2          1.3         0.2     setosa\n",
      "3            4.6         3.1          1.5         0.2     setosa\n",
      "4            5.0         3.6          1.4         0.2     setosa\n",
      "..           ...         ...          ...         ...        ...\n",
      "145          6.7         3.0          5.2         2.3  virginica\n",
      "146          6.3         2.5          5.0         1.9  virginica\n",
      "147          6.5         3.0          5.2         2.0  virginica\n",
      "148          6.2         3.4          5.4         2.3  virginica\n",
      "149          5.9         3.0          5.1         1.8  virginica\n",
      "\n",
      "[150 rows x 5 columns]\n"
     ]
    }
   ],
   "source": [
    "dg=pd.DataFrame(df)\n",
    "print(dg)"
   ]
  },
  {
   "cell_type": "code",
   "execution_count": 100,
   "id": "d191551b-6714-4fda-9c39-f380e01ef738",
   "metadata": {},
   "outputs": [
    {
     "name": "stdout",
     "output_type": "stream",
     "text": [
      "0      3.5\n",
      "1      3.0\n",
      "2      3.2\n",
      "3      3.1\n",
      "4      3.6\n",
      "      ... \n",
      "145    3.0\n",
      "146    2.5\n",
      "147    3.0\n",
      "148    3.4\n",
      "149    3.0\n",
      "Name: sepalWidth, Length: 150, dtype: float64\n"
     ]
    }
   ],
   "source": [
    "ff=pd.Series(df['sepalWidth'])\n",
    "print(ff)"
   ]
  },
  {
   "cell_type": "code",
   "execution_count": 104,
   "id": "95a678ee-b8b7-4d33-92d5-719d7e6ff532",
   "metadata": {},
   "outputs": [
    {
     "name": "stdout",
     "output_type": "stream",
     "text": [
      "<class 'pandas.core.frame.DataFrame'>\n",
      "RangeIndex: 150 entries, 0 to 149\n",
      "Data columns (total 5 columns):\n",
      " #   Column       Non-Null Count  Dtype  \n",
      "---  ------       --------------  -----  \n",
      " 0   sepalLength  150 non-null    float64\n",
      " 1   sepalWidth   150 non-null    float64\n",
      " 2   petalLength  150 non-null    float64\n",
      " 3   petalWidth   150 non-null    float64\n",
      " 4   species      150 non-null    object \n",
      "dtypes: float64(4), object(1)\n",
      "memory usage: 6.0+ KB\n"
     ]
    }
   ],
   "source": [
    "df.info()"
   ]
  },
  {
   "cell_type": "code",
   "execution_count": 106,
   "id": "9e9bb490-d441-483d-bf3c-392ca127589a",
   "metadata": {},
   "outputs": [
    {
     "data": {
      "text/html": [
       "<div>\n",
       "<style scoped>\n",
       "    .dataframe tbody tr th:only-of-type {\n",
       "        vertical-align: middle;\n",
       "    }\n",
       "\n",
       "    .dataframe tbody tr th {\n",
       "        vertical-align: top;\n",
       "    }\n",
       "\n",
       "    .dataframe thead th {\n",
       "        text-align: right;\n",
       "    }\n",
       "</style>\n",
       "<table border=\"1\" class=\"dataframe\">\n",
       "  <thead>\n",
       "    <tr style=\"text-align: right;\">\n",
       "      <th></th>\n",
       "      <th>sepalLength</th>\n",
       "      <th>sepalWidth</th>\n",
       "      <th>petalLength</th>\n",
       "      <th>petalWidth</th>\n",
       "    </tr>\n",
       "  </thead>\n",
       "  <tbody>\n",
       "    <tr>\n",
       "      <th>count</th>\n",
       "      <td>150.000000</td>\n",
       "      <td>150.000000</td>\n",
       "      <td>150.000000</td>\n",
       "      <td>150.000000</td>\n",
       "    </tr>\n",
       "    <tr>\n",
       "      <th>mean</th>\n",
       "      <td>5.843333</td>\n",
       "      <td>3.057333</td>\n",
       "      <td>3.758000</td>\n",
       "      <td>1.199333</td>\n",
       "    </tr>\n",
       "    <tr>\n",
       "      <th>std</th>\n",
       "      <td>0.828066</td>\n",
       "      <td>0.435866</td>\n",
       "      <td>1.765298</td>\n",
       "      <td>0.762238</td>\n",
       "    </tr>\n",
       "    <tr>\n",
       "      <th>min</th>\n",
       "      <td>4.300000</td>\n",
       "      <td>2.000000</td>\n",
       "      <td>1.000000</td>\n",
       "      <td>0.100000</td>\n",
       "    </tr>\n",
       "    <tr>\n",
       "      <th>25%</th>\n",
       "      <td>5.100000</td>\n",
       "      <td>2.800000</td>\n",
       "      <td>1.600000</td>\n",
       "      <td>0.300000</td>\n",
       "    </tr>\n",
       "    <tr>\n",
       "      <th>50%</th>\n",
       "      <td>5.800000</td>\n",
       "      <td>3.000000</td>\n",
       "      <td>4.350000</td>\n",
       "      <td>1.300000</td>\n",
       "    </tr>\n",
       "    <tr>\n",
       "      <th>75%</th>\n",
       "      <td>6.400000</td>\n",
       "      <td>3.300000</td>\n",
       "      <td>5.100000</td>\n",
       "      <td>1.800000</td>\n",
       "    </tr>\n",
       "    <tr>\n",
       "      <th>max</th>\n",
       "      <td>7.900000</td>\n",
       "      <td>4.400000</td>\n",
       "      <td>6.900000</td>\n",
       "      <td>2.500000</td>\n",
       "    </tr>\n",
       "  </tbody>\n",
       "</table>\n",
       "</div>"
      ],
      "text/plain": [
       "       sepalLength  sepalWidth  petalLength  petalWidth\n",
       "count   150.000000  150.000000   150.000000  150.000000\n",
       "mean      5.843333    3.057333     3.758000    1.199333\n",
       "std       0.828066    0.435866     1.765298    0.762238\n",
       "min       4.300000    2.000000     1.000000    0.100000\n",
       "25%       5.100000    2.800000     1.600000    0.300000\n",
       "50%       5.800000    3.000000     4.350000    1.300000\n",
       "75%       6.400000    3.300000     5.100000    1.800000\n",
       "max       7.900000    4.400000     6.900000    2.500000"
      ]
     },
     "execution_count": 106,
     "metadata": {},
     "output_type": "execute_result"
    }
   ],
   "source": [
    "df.describe()"
   ]
  },
  {
   "cell_type": "code",
   "execution_count": 108,
   "id": "b55eabee-584b-4051-a03a-da4b4e56e561",
   "metadata": {},
   "outputs": [
    {
     "data": {
      "text/html": [
       "<div>\n",
       "<style scoped>\n",
       "    .dataframe tbody tr th:only-of-type {\n",
       "        vertical-align: middle;\n",
       "    }\n",
       "\n",
       "    .dataframe tbody tr th {\n",
       "        vertical-align: top;\n",
       "    }\n",
       "\n",
       "    .dataframe thead th {\n",
       "        text-align: right;\n",
       "    }\n",
       "</style>\n",
       "<table border=\"1\" class=\"dataframe\">\n",
       "  <thead>\n",
       "    <tr style=\"text-align: right;\">\n",
       "      <th></th>\n",
       "      <th>sepalLength</th>\n",
       "      <th>sepalWidth</th>\n",
       "      <th>petalLength</th>\n",
       "      <th>petalWidth</th>\n",
       "      <th>species</th>\n",
       "    </tr>\n",
       "  </thead>\n",
       "  <tbody>\n",
       "    <tr>\n",
       "      <th>15</th>\n",
       "      <td>5.7</td>\n",
       "      <td>4.4</td>\n",
       "      <td>1.5</td>\n",
       "      <td>0.4</td>\n",
       "      <td>setosa</td>\n",
       "    </tr>\n",
       "    <tr>\n",
       "      <th>32</th>\n",
       "      <td>5.2</td>\n",
       "      <td>4.1</td>\n",
       "      <td>1.5</td>\n",
       "      <td>0.1</td>\n",
       "      <td>setosa</td>\n",
       "    </tr>\n",
       "    <tr>\n",
       "      <th>33</th>\n",
       "      <td>5.5</td>\n",
       "      <td>4.2</td>\n",
       "      <td>1.4</td>\n",
       "      <td>0.2</td>\n",
       "      <td>setosa</td>\n",
       "    </tr>\n",
       "  </tbody>\n",
       "</table>\n",
       "</div>"
      ],
      "text/plain": [
       "    sepalLength  sepalWidth  petalLength  petalWidth species\n",
       "15          5.7         4.4          1.5         0.4  setosa\n",
       "32          5.2         4.1          1.5         0.1  setosa\n",
       "33          5.5         4.2          1.4         0.2  setosa"
      ]
     },
     "execution_count": 108,
     "metadata": {},
     "output_type": "execute_result"
    }
   ],
   "source": [
    "df.query('sepalWidth>4')"
   ]
  },
  {
   "cell_type": "code",
   "execution_count": 136,
   "id": "e4dcd454-b972-4590-86a3-88d66acc50b7",
   "metadata": {},
   "outputs": [
    {
     "data": {
      "text/html": [
       "<div>\n",
       "<style scoped>\n",
       "    .dataframe tbody tr th:only-of-type {\n",
       "        vertical-align: middle;\n",
       "    }\n",
       "\n",
       "    .dataframe tbody tr th {\n",
       "        vertical-align: top;\n",
       "    }\n",
       "\n",
       "    .dataframe thead th {\n",
       "        text-align: right;\n",
       "    }\n",
       "</style>\n",
       "<table border=\"1\" class=\"dataframe\">\n",
       "  <thead>\n",
       "    <tr style=\"text-align: right;\">\n",
       "      <th></th>\n",
       "      <th>sepalLength</th>\n",
       "      <th>sepalWidth</th>\n",
       "      <th>petalLength</th>\n",
       "      <th>petalWidth</th>\n",
       "    </tr>\n",
       "  </thead>\n",
       "  <tbody>\n",
       "    <tr>\n",
       "      <th>count</th>\n",
       "      <td>150.000000</td>\n",
       "      <td>150.000000</td>\n",
       "      <td>150.000000</td>\n",
       "      <td>150.000000</td>\n",
       "    </tr>\n",
       "    <tr>\n",
       "      <th>mean</th>\n",
       "      <td>5.843333</td>\n",
       "      <td>3.057333</td>\n",
       "      <td>3.758000</td>\n",
       "      <td>1.199333</td>\n",
       "    </tr>\n",
       "    <tr>\n",
       "      <th>std</th>\n",
       "      <td>0.828066</td>\n",
       "      <td>0.435866</td>\n",
       "      <td>1.765298</td>\n",
       "      <td>0.762238</td>\n",
       "    </tr>\n",
       "    <tr>\n",
       "      <th>min</th>\n",
       "      <td>4.300000</td>\n",
       "      <td>2.000000</td>\n",
       "      <td>1.000000</td>\n",
       "      <td>0.100000</td>\n",
       "    </tr>\n",
       "    <tr>\n",
       "      <th>25%</th>\n",
       "      <td>5.100000</td>\n",
       "      <td>2.800000</td>\n",
       "      <td>1.600000</td>\n",
       "      <td>0.300000</td>\n",
       "    </tr>\n",
       "    <tr>\n",
       "      <th>50%</th>\n",
       "      <td>5.800000</td>\n",
       "      <td>3.000000</td>\n",
       "      <td>4.350000</td>\n",
       "      <td>1.300000</td>\n",
       "    </tr>\n",
       "    <tr>\n",
       "      <th>75%</th>\n",
       "      <td>6.400000</td>\n",
       "      <td>3.300000</td>\n",
       "      <td>5.100000</td>\n",
       "      <td>1.800000</td>\n",
       "    </tr>\n",
       "    <tr>\n",
       "      <th>max</th>\n",
       "      <td>7.900000</td>\n",
       "      <td>4.400000</td>\n",
       "      <td>6.900000</td>\n",
       "      <td>2.500000</td>\n",
       "    </tr>\n",
       "  </tbody>\n",
       "</table>\n",
       "</div>"
      ],
      "text/plain": [
       "       sepalLength  sepalWidth  petalLength  petalWidth\n",
       "count   150.000000  150.000000   150.000000  150.000000\n",
       "mean      5.843333    3.057333     3.758000    1.199333\n",
       "std       0.828066    0.435866     1.765298    0.762238\n",
       "min       4.300000    2.000000     1.000000    0.100000\n",
       "25%       5.100000    2.800000     1.600000    0.300000\n",
       "50%       5.800000    3.000000     4.350000    1.300000\n",
       "75%       6.400000    3.300000     5.100000    1.800000\n",
       "max       7.900000    4.400000     6.900000    2.500000"
      ]
     },
     "execution_count": 136,
     "metadata": {},
     "output_type": "execute_result"
    }
   ],
   "source": [
    "df.describe()"
   ]
  },
  {
   "cell_type": "code",
   "execution_count": 116,
   "id": "1de5fc9f-f097-4e9a-a93a-c70aec270f19",
   "metadata": {},
   "outputs": [
    {
     "data": {
      "text/plain": [
       "<Axes: >"
      ]
     },
     "execution_count": 116,
     "metadata": {},
     "output_type": "execute_result"
    },
    {
     "data": {
      "image/png": "[encoded data removed]",
      "text/plain": [
       "<Figure size 640x480 with 1 Axes>"
      ]
     },
     "metadata": {},
     "output_type": "display_data"
    }
   ],
   "source": [
    "df.plot()"
   ]
  },
  {
   "cell_type": "code",
   "execution_count": 110,
   "id": "20dc784c-d3ca-4742-9d90-de6add7c65b2",
   "metadata": {},
   "outputs": [],
   "source": [
    "fg=pd.read_csv('tested.csv')"
   ]
  },
  {
   "cell_type": "code",
   "execution_count": 126,
   "id": "f147e327-9423-454a-93bb-e865ce7b7de4",
   "metadata": {},
   "outputs": [
    {
     "name": "stdout",
     "output_type": "stream",
     "text": [
      "<class 'pandas.core.frame.DataFrame'>\n",
      "RangeIndex: 418 entries, 0 to 417\n",
      "Data columns (total 12 columns):\n",
      " #   Column       Non-Null Count  Dtype  \n",
      "---  ------       --------------  -----  \n",
      " 0   PassengerId  418 non-null    int64  \n",
      " 1   Survived     418 non-null    int64  \n",
      " 2   Pclass       418 non-null    int64  \n",
      " 3   Name         418 non-null    object \n",
      " 4   Sex          418 non-null    object \n",
      " 5   Age          332 non-null    float64\n",
      " 6   SibSp        418 non-null    int64  \n",
      " 7   Parch        418 non-null    int64  \n",
      " 8   Ticket       418 non-null    object \n",
      " 9   Fare         417 non-null    float64\n",
      " 10  Cabin        91 non-null     object \n",
      " 11  Embarked     418 non-null    object \n",
      "dtypes: float64(2), int64(5), object(5)\n",
      "memory usage: 39.3+ KB\n"
     ]
    }
   ],
   "source": [
    "fg.info()"
   ]
  },
  {
   "cell_type": "code",
   "execution_count": 132,
   "id": "d2f53045-2592-4884-b6e0-54a6e6ca2069",
   "metadata": {},
   "outputs": [
    {
     "name": "stdout",
     "output_type": "stream",
     "text": [
      "0      0\n",
      "1      1\n",
      "2      0\n",
      "3      0\n",
      "4      1\n",
      "      ..\n",
      "413    0\n",
      "414    1\n",
      "415    0\n",
      "416    0\n",
      "417    0\n",
      "Name: Survived, Length: 418, dtype: int64\n"
     ]
    }
   ],
   "source": [
    "c=pd.Series(fg['Survived'])\n",
    "print(c)"
   ]
  },
  {
   "cell_type": "code",
   "execution_count": 140,
   "id": "5964919e-35de-484e-b231-f260932a7a95",
   "metadata": {},
   "outputs": [
    {
     "data": {
      "text/plain": [
       "<Axes: >"
      ]
     },
     "execution_count": 140,
     "metadata": {},
     "output_type": "execute_result"
    },
    {
     "data": {
      "image/png": "[encoded data removed]",
      "text/plain": [
       "<Figure size 640x480 with 1 Axes>"
      ]
     },
     "metadata": {},
     "output_type": "display_data"
    }
   ],
   "source": [
    "fg.plot()"
   ]
  },
  {
   "cell_type": "code",
   "execution_count": 146,
   "id": "7564b6dc-fbdb-4bd2-a2ea-db724d08b5dd",
   "metadata": {},
   "outputs": [
    {
     "data": {
      "text/plain": [
       "<Axes: ylabel='Frequency'>"
      ]
     },
     "execution_count": 146,
     "metadata": {},
     "output_type": "execute_result"
    },
    {
     "data": {
      "image/png": "[encoded data removed]",
      "text/plain": [
       "<Figure size 640x480 with 1 Axes>"
      ]
     },
     "metadata": {},
     "output_type": "display_data"
    }
   ],
   "source": [
    "fg.plot(kind='hist',x='Survived',y='Age')"
   ]
  },
  {
   "cell_type": "code",
   "execution_count": 134,
   "id": "635a625e-7536-4430-a78d-0fc8ab9c79e7",
   "metadata": {},
   "outputs": [
    {
     "data": {
      "text/html": [
       "<div>\n",
       "<style scoped>\n",
       "    .dataframe tbody tr th:only-of-type {\n",
       "        vertical-align: middle;\n",
       "    }\n",
       "\n",
       "    .dataframe tbody tr th {\n",
       "        vertical-align: top;\n",
       "    }\n",
       "\n",
       "    .dataframe thead th {\n",
       "        text-align: right;\n",
       "    }\n",
       "</style>\n",
       "<table border=\"1\" class=\"dataframe\">\n",
       "  <thead>\n",
       "    <tr style=\"text-align: right;\">\n",
       "      <th></th>\n",
       "      <th>PassengerId</th>\n",
       "      <th>Survived</th>\n",
       "      <th>Pclass</th>\n",
       "      <th>Age</th>\n",
       "      <th>SibSp</th>\n",
       "      <th>Parch</th>\n",
       "      <th>Fare</th>\n",
       "    </tr>\n",
       "  </thead>\n",
       "  <tbody>\n",
       "    <tr>\n",
       "      <th>count</th>\n",
       "      <td>418.000000</td>\n",
       "      <td>418.000000</td>\n",
       "      <td>418.000000</td>\n",
       "      <td>332.000000</td>\n",
       "      <td>418.000000</td>\n",
       "      <td>418.000000</td>\n",
       "      <td>417.000000</td>\n",
       "    </tr>\n",
       "    <tr>\n",
       "      <th>mean</th>\n",
       "      <td>1100.500000</td>\n",
       "      <td>0.363636</td>\n",
       "      <td>2.265550</td>\n",
       "      <td>30.272590</td>\n",
       "      <td>0.447368</td>\n",
       "      <td>0.392344</td>\n",
       "      <td>35.627188</td>\n",
       "    </tr>\n",
       "    <tr>\n",
       "      <th>std</th>\n",
       "      <td>120.810458</td>\n",
       "      <td>0.481622</td>\n",
       "      <td>0.841838</td>\n",
       "      <td>14.181209</td>\n",
       "      <td>0.896760</td>\n",
       "      <td>0.981429</td>\n",
       "      <td>55.907576</td>\n",
       "    </tr>\n",
       "    <tr>\n",
       "      <th>min</th>\n",
       "      <td>892.000000</td>\n",
       "      <td>0.000000</td>\n",
       "      <td>1.000000</td>\n",
       "      <td>0.170000</td>\n",
       "      <td>0.000000</td>\n",
       "      <td>0.000000</td>\n",
       "      <td>0.000000</td>\n",
       "    </tr>\n",
       "    <tr>\n",
       "      <th>25%</th>\n",
       "      <td>996.250000</td>\n",
       "      <td>0.000000</td>\n",
       "      <td>1.000000</td>\n",
       "      <td>21.000000</td>\n",
       "      <td>0.000000</td>\n",
       "      <td>0.000000</td>\n",
       "      <td>7.895800</td>\n",
       "    </tr>\n",
       "    <tr>\n",
       "      <th>50%</th>\n",
       "      <td>1100.500000</td>\n",
       "      <td>0.000000</td>\n",
       "      <td>3.000000</td>\n",
       "      <td>27.000000</td>\n",
       "      <td>0.000000</td>\n",
       "      <td>0.000000</td>\n",
       "      <td>14.454200</td>\n",
       "    </tr>\n",
       "    <tr>\n",
       "      <th>75%</th>\n",
       "      <td>1204.750000</td>\n",
       "      <td>1.000000</td>\n",
       "      <td>3.000000</td>\n",
       "      <td>39.000000</td>\n",
       "      <td>1.000000</td>\n",
       "      <td>0.000000</td>\n",
       "      <td>31.500000</td>\n",
       "    </tr>\n",
       "    <tr>\n",
       "      <th>max</th>\n",
       "      <td>1309.000000</td>\n",
       "      <td>1.000000</td>\n",
       "      <td>3.000000</td>\n",
       "      <td>76.000000</td>\n",
       "      <td>8.000000</td>\n",
       "      <td>9.000000</td>\n",
       "      <td>512.329200</td>\n",
       "    </tr>\n",
       "  </tbody>\n",
       "</table>\n",
       "</div>"
      ],
      "text/plain": [
       "       PassengerId    Survived      Pclass         Age       SibSp  \\\n",
       "count   418.000000  418.000000  418.000000  332.000000  418.000000   \n",
       "mean   1100.500000    0.363636    2.265550   30.272590    0.447368   \n",
       "std     120.810458    0.481622    0.841838   14.181209    0.896760   \n",
       "min     892.000000    0.000000    1.000000    0.170000    0.000000   \n",
       "25%     996.250000    0.000000    1.000000   21.000000    0.000000   \n",
       "50%    1100.500000    0.000000    3.000000   27.000000    0.000000   \n",
       "75%    1204.750000    1.000000    3.000000   39.000000    1.000000   \n",
       "max    1309.000000    1.000000    3.000000   76.000000    8.000000   \n",
       "\n",
       "            Parch        Fare  \n",
       "count  418.000000  417.000000  \n",
       "mean     0.392344   35.627188  \n",
       "std      0.981429   55.907576  \n",
       "min      0.000000    0.000000  \n",
       "25%      0.000000    7.895800  \n",
       "50%      0.000000   14.454200  \n",
       "75%      0.000000   31.500000  \n",
       "max      9.000000  512.329200  "
      ]
     },
     "execution_count": 134,
     "metadata": {},
     "output_type": "execute_result"
    }
   ],
   "source": [
    "fg.describe()"
   ]
  },
  {
   "cell_type": "code",
   "execution_count": null,
   "id": "d075fa16-9fb3-4c1a-9502-a58f9fd6dd1d",
   "metadata": {},
   "outputs": [],
   "source": []
  }
 ],
 "metadata": {
  "kernelspec": {
   "display_name": "Python 3 (ipykernel)",
   "language": "python",
   "name": "python3"
  },
  "language_info": {
   "codemirror_mode": {
    "name": "ipython",
    "version": 3
   },
   "file_extension": ".py",
   "mimetype": "text/x-python",
   "name": "python",
   "nbconvert_exporter": "python",
   "pygments_lexer": "ipython3",
   "version": "3.12.4"
  }
 },
 "nbformat": 4,
 "nbformat_minor": 5
}
