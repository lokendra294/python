{
 "cells": [
  {
   "cell_type": "code",
   "execution_count": 4,
   "id": "f9af27ac-c64b-4056-860a-cbae9989c6da",
   "metadata": {},
   "outputs": [],
   "source": [
    "# Q1. What is the primary goal of Object-Oriented Programming (OOP)"
   ]
  },
  {
   "cell_type": "code",
   "execution_count": 8,
   "id": "5d8adcb9-376e-4a30-b5d6-3db120c11e49",
   "metadata": {},
   "outputs": [],
   "source": [
    "#Ans. The main goal of oops in python programming is to bind the data and functions together, so they can work together as a single unit."
   ]
  },
  {
   "cell_type": "code",
   "execution_count": 4,
   "id": "09603885-1a63-4b1a-97c0-93e1a4682177",
   "metadata": {},
   "outputs": [],
   "source": [
    "# Q2. What is an object in Python?"
   ]
  },
  {
   "cell_type": "code",
   "execution_count": null,
   "id": "9c4a5e9e-e511-4a22-9c69-223f61de6143",
   "metadata": {},
   "outputs": [],
   "source": [
    "# Ans. Any variable we used to call the class in oops is called Object."
   ]
  },
  {
   "cell_type": "code",
   "execution_count": null,
   "id": "f8bf6ee0-baed-40fc-be52-4e3b1bac38f9",
   "metadata": {},
   "outputs": [],
   "source": [
    "# Q3. What is a class in Python?"
   ]
  },
  {
   "cell_type": "code",
   "execution_count": null,
   "id": "6bef14cc-d6a9-4240-8929-4bd52b4a9fa9",
   "metadata": {},
   "outputs": [],
   "source": [
    "# Ans. A class is a collection of objects.A class have methods and attribute which work together to form a functioning class."
   ]
  },
  {
   "cell_type": "code",
   "execution_count": null,
   "id": "b4985b5f-ca82-4c23-9626-4f2d4892eccb",
   "metadata": {},
   "outputs": [],
   "source": [
    "# Q4. What are attributes and methods in a class?"
   ]
  },
  {
   "cell_type": "code",
   "execution_count": null,
   "id": "5d6a1186-cc47-4ee0-b1f0-742c341b9fad",
   "metadata": {},
   "outputs": [],
   "source": [
    "# Ans.Attributes are variables that store information and data in class or methods.\n",
    "     # methods are simply functions in a class. In class we call functions as methods."
   ]
  },
  {
   "cell_type": "code",
   "execution_count": null,
   "id": "056e380b-feb5-436e-ad7c-69beebb6c61b",
   "metadata": {},
   "outputs": [],
   "source": [
    "# Q5. What is the difference between class variables and instance variables in Python?"
   ]
  },
  {
   "cell_type": "code",
   "execution_count": null,
   "id": "a50ae9cb-f829-43ec-840d-e2312968ac58",
   "metadata": {},
   "outputs": [],
   "source": [
    "# Ans. Class variable are defined within the class but outside any methods.\n",
    "#      Instance variable are defined within the methods, usually in \"__init__\" method."
   ]
  },
  {
   "cell_type": "code",
   "execution_count": 2,
   "id": "0c691f73-b9ec-43d5-8b9a-e597212cc700",
   "metadata": {},
   "outputs": [],
   "source": [
    "# Q6. What is the purpose of the self parameter in Python class methods?"
   ]
  },
  {
   "cell_type": "code",
   "execution_count": null,
   "id": "3cc28606-0eb6-4a5b-bfd5-baa666bc9824",
   "metadata": {},
   "outputs": [],
   "source": [
    "# Ans. Self parameter is used to call the instance vairable."
   ]
  },
  {
   "cell_type": "code",
   "execution_count": null,
   "id": "d1129e55-de66-4522-93d2-b780cdf5b264",
   "metadata": {},
   "outputs": [],
   "source": [
    " # Q7. For a library management system, you have to design the \"Book\" class with OOP\n",
    " # principles in mind. The “Book” class will have following attributes:\n",
    " # a. title: Represents the title of the book.\n",
    " # b. author: Represents the author(s) of the book.\n",
    " # c. isbn: Represents the ISBN (International Standard Book Number) of the book.\n",
    " # d. publication_year: Represents the year of publication of the book.\n",
    " # e. available_copies: Represents the number of copies available for checkout.\n",
    " # The class will also include the following methods:\n",
    " # a. check_out(self): Decrements the available copies by one if there are copies\n",
    " # available for checkout.\n",
    " # b. return_book(self): Increments the available copies by one when a book is\n",
    " # returned.\n",
    " # c. display_book_info(self): Displays the information about the book, including its\n",
    " # attributes and the number of available copies"
   ]
  },
  {
   "cell_type": "code",
   "execution_count": 76,
   "id": "8fea305d-2ae4-4597-a34f-4e7260aa7864",
   "metadata": {},
   "outputs": [
    {
     "name": "stdout",
     "output_type": "stream",
     "text": [
      "loki has been checkedout\n"
     ]
    }
   ],
   "source": [
    "# Ans7.\n",
    "\n",
    "class Book:\n",
    "    def __init__(self,title,author,isbn,publication_year,available_copies):\n",
    "        self.title = title\n",
    "        self.author = author\n",
    "        self.isbn = isbn\n",
    "        self.punlication_year = publication_year\n",
    "        self.available_copies = available_copies\n",
    "\n",
    "    def checkout(self):\n",
    "        if self.available_copies > 0:\n",
    "            self.available_copies -= 1\n",
    "            print(self.title,\"has been checkedout\")\n",
    "        else:\n",
    "            print(\"out of stock\")\n",
    "\n",
    "    def reutrn_book(self):\n",
    "       self.available_copies += 1\n",
    "       print(self.title, \"has been returned\")\n",
    "\n",
    "    def display_book_info(self):\n",
    "       print(\"The book is\",self.title,\"which was written by\",self.author)\n",
    "       print(\"ISBN:\",self.isbn, \"publication year\",self.publication_year)\n",
    "\n",
    "    def show_available_book(self):\n",
    "       return self.available_book\n",
    "\n",
    "book = Book(\"loki\",\"lokendra\",\"123456789\",\"2021\",5)\n",
    "book.checkout()"
   ]
  },
  {
   "cell_type": "code",
   "execution_count": null,
   "id": "08726443-0b54-4c01-a28f-040fa4a86a85",
   "metadata": {},
   "outputs": [],
   "source": [
    " # Q8. For a ticket booking system, you have to design the \"Ticket\" class with OOP\n",
    " # principles in mind. The “Ticket” class should have the following attributes:\n",
    " # a. ticket_id: Represents the unique identifier for the ticket.\n",
    " # b. event_name: Represents the name of the event.\n",
    " # c. event_date: Represents the date of the event.\n",
    " # d. venue: Represents the venue of the event.\n",
    " # e. seat_number: Represents the seat number associated with the ticket.\n",
    " # f.\n",
    " # price: Represents the price of the ticket.\n",
    " # g. is_reserved: Represents the reservation status of the ticket.\n",
    " # The class also includes the following methods:\n",
    " # a. reserve_ticket(self): Marks the ticket as reserved if it is not already reserved.\n",
    " # b. cancel_reservation(self): Cancels the reservation of the ticket if it is already\n",
    " # reserved.\n",
    " # c. display_ticket_info(self): Displays the information about the ticket, including its\n",
    " # attributes and reservation status"
   ]
  },
  {
   "cell_type": "code",
   "execution_count": 3,
   "id": "a49cecb7-53e0-42c0-9dff-2f34f2999878",
   "metadata": {},
   "outputs": [
    {
     "name": "stdout",
     "output_type": "stream",
     "text": [
      "ticket: T12345 has been reserved for A12\n"
     ]
    }
   ],
   "source": [
    "# Ans 8.\n",
    "\n",
    "class Ticket:\n",
    "    \n",
    "    def __init__(self,ticket_id,event_name,event_date,venue,seat_number,price):\n",
    "        self.ticket_id = ticket_id\n",
    "        self.event_date = event_date\n",
    "        self.event_name = event_name\n",
    "        self.venue = venue\n",
    "        self.seat_number = seat_number\n",
    "        self.price = price\n",
    "        self.is_reserved = []\n",
    "        \n",
    "\n",
    "    def reserve_ticket(self):\n",
    "        for i in self.is_reserved:\n",
    "            if i == self.ticket_id:\n",
    "                print(self.ticket_id,\"has already been reserved\")\n",
    "                break\n",
    "                \n",
    "        else:\n",
    "            self.is_reserved.append(self.ticket_id)\n",
    "            print(\"ticket:\",self.ticket_id,\"has been reserved for\",self.seat_number)\n",
    "\n",
    "    def cancel_reservation(self):\n",
    "        self.is_reserved.remove(self.ticket_id)\n",
    "        print(\"ticket:\",self.ticket_id,\"has been cancelled for\",self.seat_number)\n",
    "\n",
    "    def display_ticket_info(self):\n",
    "        for i in self.is_reserved:\n",
    "            if i == self.ticket_id:\n",
    "                print(self.ticket_id,\"is reserved\")\n",
    "                print(\"Event date:\",self.event_date)\n",
    "                print(\"Event name:\", self.event_name)\n",
    "                print(\"venue:\", self.venue)\n",
    "                print(\"seat number:\", self.seat_number)\n",
    "                print(\"Price:\", self.price)\n",
    "                break  \n",
    "        else:\n",
    "            print(self.ticket_id,\"is not reserved\")\n",
    "\n",
    "\n",
    "tiket = Ticket(\"T12345\", \"Concert of Legends\", \"2024-10-12\", \"Grand Arena\", \"A12\", 150.00)\n",
    "tiket.reserve_ticket()"
   ]
  },
  {
   "cell_type": "code",
   "execution_count": null,
   "id": "cedfe5e3-f8b6-4fba-910d-df23d4324a77",
   "metadata": {},
   "outputs": [],
   "source": [
    "# Q9. You are creating a shopping cart for an e-commerce website. Using OOP to model\n",
    "#  the \"ShoppingCart\" functionality the class should contain following attributes and\n",
    "#  methods:\n",
    "#  a. items: Represents the list of items in the shopping cart.\n",
    "#  The class also includes the following methods:\n",
    "# a. add_item(self, item): Adds an item to the shopping cart by appending it to the\n",
    "#  list of items.\n",
    "#  b. remove_item(self, item): Removes an item from the shopping cart if it exists in\n",
    "#  the list.\n",
    "#  c. view_cart(self): Displays the items currently present in the shopping cart.\n",
    "#  d. clear_cart(self): Clears all items from the shopping cart by reassigning an\n",
    "#  empty list to the items attribute"
   ]
  },
  {
   "cell_type": "code",
   "execution_count": 12,
   "id": "b10a87c3-c4de-4776-8d5e-3bec0c71686e",
   "metadata": {},
   "outputs": [
    {
     "name": "stdout",
     "output_type": "stream",
     "text": [
      "added mobile in the cart\n",
      "added ac in the cart\n",
      "Not Found\n",
      "ac has been removed from cart\n",
      "Shopping cart has been cleared\n"
     ]
    },
    {
     "data": {
      "text/plain": [
       "[]"
      ]
     },
     "execution_count": 12,
     "metadata": {},
     "output_type": "execute_result"
    }
   ],
   "source": [
    "class Shoppingcart:\n",
    "    def __init__(self):\n",
    "        self.items = []\n",
    "\n",
    "    def add_items(self,item):\n",
    "        self.item = item\n",
    "        self.items.append(self.item)\n",
    "        print(\"added\",self.item,\"in the cart\")\n",
    "\n",
    "    def remove_items(self,item):\n",
    "        self.item = item\n",
    "        for i in self.items:\n",
    "            if i == item:\n",
    "                self.items.remove(self.item)\n",
    "                print(self.item, \"has been removed from cart\")\n",
    "                break\n",
    "            else:\n",
    "                print(\"Not Found\")\n",
    "\n",
    "    def view_cart(self):\n",
    "        return self.items\n",
    "\n",
    "    def clear_cart(self):\n",
    "        self.items = []\n",
    "        print(\"Shopping cart has been cleared\")\n",
    "\n",
    "jkl = Shoppingcart()\n",
    "\n",
    "jkl.add_items(\"mobile\")\n",
    "jkl.add_items(\"ac\")\n",
    "jkl.remove_items(\"ac\")\n",
    "jkl.view_cart()\n",
    "jkl.clear_cart()\n",
    "jkl.view_cart()"
   ]
  },
  {
   "cell_type": "code",
   "execution_count": null,
   "id": "367293dd-30aa-4b2a-8cfd-6a319f294d99",
   "metadata": {},
   "outputs": [],
   "source": [
    " #Q10. Imagine a school management system. You have to design the \"Student\" class using\n",
    " # OOPconcepts.The “Student” class has the following attributes:\n",
    " # a. name: Represents the name of the student.\n",
    " # b. age: Represents the age of the student.\n",
    " # c. grade: Represents the grade or class of the student.\n",
    " # d. student_id: Represents the unique identifier for the student.\n",
    " # e. attendance: Represents the attendance record of the student.\n",
    " # The class should also include the following methods:\n",
    " # a. update_attendance(self, date, status): Updates the attendance record of the\n",
    " # student for a given date with the provided status (e.g., present or absent).\n",
    " # b. get_attendance(self): Returns the attendance record of the student.\n",
    " # c. get_average_attendance(self): Calculates and returns the average\n",
    " # attendance percentage of the student based on their attendance record"
   ]
  },
  {
   "cell_type": "code",
   "execution_count": 25,
   "id": "08da6c93-29fd-465a-8221-aaf5f7f979ce",
   "metadata": {},
   "outputs": [
    {
     "name": "stdout",
     "output_type": "stream",
     "text": [
      "Attendance for John Doe has been marked present on 2024-09-20\n",
      "Attendance for John Doe has been marked absent on 2024-09-21\n",
      "Attendance for John Doe has been marked present on 2024-09-22\n",
      "Attendance Record: {'2024-09-20': 'present', '2024-09-21': 'absent', '2024-09-22': 'present'}\n"
     ]
    },
    {
     "data": {
      "text/plain": [
       "66.66666666666666"
      ]
     },
     "execution_count": 25,
     "metadata": {},
     "output_type": "execute_result"
    }
   ],
   "source": [
    "class Student:\n",
    "    def __init__(self, name, age, grade, student_id):\n",
    "        self.name = name\n",
    "        self.age = age\n",
    "        self.grade = grade\n",
    "        self.student_id = student_id\n",
    "        self.attendance = {}  \n",
    "\n",
    "    def update_attendance(self,date,status):\n",
    "        self.attendance[date] = status\n",
    "        print(f\"Attendance for {student.name} has been marked {status} on {date}\")\n",
    "\n",
    "    def get_attendance(self):\n",
    "        return self.attendance\n",
    "\n",
    "    def get_average_attendance(self):\n",
    "        total_days = len(self.attendance)\n",
    "        if total_days == 0:\n",
    "            return 0\n",
    "\n",
    "        present_days = 0\n",
    "        for status in self.attendance.values():\n",
    "            if status == \"present\":\n",
    "                present_days += 1\n",
    "\n",
    "        attendance_percentage = (present_days / total_days) * 100\n",
    "        return attendance_percentage\n",
    "\n",
    "student = Student(\"John Doe\", 16, \"10th Grade\", \"S12345\")\n",
    "\n",
    "student.update_attendance(\"2024-09-20\", \"present\")\n",
    "student.update_attendance(\"2024-09-21\", \"absent\")\n",
    "student.update_attendance(\"2024-09-22\", \"present\")\n",
    "\n",
    "attendance_record = student.get_attendance()\n",
    "print(\"Attendance Record:\", attendance_record)\n",
    "\n",
    "student.get_average_attendance()\n",
    "# print(\"average attendance:\", attendance_percentage,\"%\")"
   ]
  },
  {
   "cell_type": "code",
   "execution_count": null,
   "id": "33a74f4d-6ec5-4ee0-b3cc-2acedd437666",
   "metadata": {},
   "outputs": [],
   "source": []
  }
 ],
 "metadata": {
  "kernelspec": {
   "display_name": "Python 3 (ipykernel)",
   "language": "python",
   "name": "python3"
  },
  "language_info": {
   "codemirror_mode": {
    "name": "ipython",
    "version": 3
   },
   "file_extension": ".py",
   "mimetype": "text/x-python",
   "name": "python",
   "nbconvert_exporter": "python",
   "pygments_lexer": "ipython3",
   "version": "3.12.4"
  }
 },
 "nbformat": 4,
 "nbformat_minor": 5
}
