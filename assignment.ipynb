{
 "cells": [
  {
   "cell_type": "markdown",
   "metadata": {
    "id": "UIdBeXYgxvd2"
   },
   "source": [
    "## Inheritance Classes"
   ]
  },
  {
   "cell_type": "code",
   "execution_count": 2,
   "metadata": {
    "id": "tM_huhcfxvd4"
   },
   "outputs": [],
   "source": [
    "class Person:\n",
    "    def __init__(self,name):\n",
    "        self.name=name\n",
    "\n",
    "    def display_info(self):\n",
    "        print(f\"Name is : {self.name}\")\n"
   ]
  },
  {
   "cell_type": "code",
   "execution_count": 3,
   "metadata": {
    "id": "M2Q7H0DJxvd5"
   },
   "outputs": [],
   "source": [
    "class Student(Person):\n",
    "    def __init__(self,name,grade):\n",
    "        super().__init__(name)\n",
    "        self.grade=grade\n",
    "\n",
    "    def display_info(self):\n",
    "        super().display_info()\n",
    "        print(f\"Grade is : {self.grade}\")\n",
    "\n"
   ]
  },
  {
   "cell_type": "code",
   "execution_count": 4,
   "metadata": {
    "colab": {
     "base_uri": "https://localhost:8080/"
    },
    "id": "lC9gz6Jqxvd5",
    "outputId": "5a53b985-b466-4d88-95fa-9312ff967d60"
   },
   "outputs": [
    {
     "name": "stdout",
     "output_type": "stream",
     "text": [
      "Name is : Mahipal\n",
      "Grade is : A\n"
     ]
    }
   ],
   "source": [
    "student1= Student(\"Mahipal\",\"A\")\n",
    "student1.display_info()"
   ]
  },
  {
   "cell_type": "code",
   "execution_count": 5,
   "metadata": {
    "id": "kzD8ZcGjxvd5"
   },
   "outputs": [],
   "source": [
    "\n",
    "\n",
    "class Teacher(Person):\n",
    "    def __init__(self,name,subject):\n",
    "        super().__init__(name)\n",
    "        self.subject=subject\n",
    "\n",
    "    def display_info(self):\n",
    "        super().display_info()\n",
    "        print(f\"Subject:{self.subject}\")\n"
   ]
  },
  {
   "cell_type": "code",
   "execution_count": 6,
   "metadata": {
    "colab": {
     "base_uri": "https://localhost:8080/"
    },
    "id": "t4Hyp47Axvd6",
    "outputId": "adb43501-587c-4699-d029-4adfaa0be726"
   },
   "outputs": [
    {
     "name": "stdout",
     "output_type": "stream",
     "text": [
      "Name is : Mahipal\n",
      "Subject:AI\n"
     ]
    }
   ],
   "source": [
    "teacher1=Teacher(\"Mahipal\",\"AI\")\n",
    "teacher1.display_info()"
   ]
  },
  {
   "cell_type": "code",
   "execution_count": 7,
   "metadata": {
    "id": "N5ewmzejxvd6"
   },
   "outputs": [],
   "source": [
    "## Create a Vehicle class with attributes brand and method start\n",
    "## create s child class Bicycle and Car additional info model and override the start method"
   ]
  },
  {
   "cell_type": "code",
   "execution_count": 8,
   "metadata": {
    "id": "eA8p8kr7xvd6"
   },
   "outputs": [],
   "source": [
    "class Vehicle:\n",
    "  def __init__(self,brand):\n",
    "    self.brand=brand\n",
    "\n",
    "  def start(self):\n",
    "    print(f\"the {self.brand} is starting\")"
   ]
  },
  {
   "cell_type": "code",
   "execution_count": 9,
   "metadata": {
    "id": "oVcwrkZDxvd6"
   },
   "outputs": [],
   "source": [
    "class Bicycle(Vehicle):\n",
    "  def __init__(self,brand,model):\n",
    "    super().__init__(brand)\n",
    "    self.model=model\n",
    "\n",
    "  def start(self):\n",
    "    super().start()\n",
    "    print(f\"the {self.brand} {self.model} is ready to go\")\n",
    "\n",
    "\n"
   ]
  },
  {
   "cell_type": "code",
   "execution_count": 10,
   "metadata": {
    "colab": {
     "base_uri": "https://localhost:8080/"
    },
    "id": "zvyLbGJDxvd7",
    "outputId": "c7add0b1-ad90-4d2b-9832-4f9d5d4e65ed"
   },
   "outputs": [
    {
     "name": "stdout",
     "output_type": "stream",
     "text": [
      "the Hero is starting\n",
      "the Hero Gear is ready to go\n"
     ]
    }
   ],
   "source": [
    "bicycle=Bicycle(\"Hero\",\"Gear\")\n",
    "bicycle.start()"
   ]
  },
  {
   "cell_type": "code",
   "execution_count": 11,
   "metadata": {
    "id": "8hSyGiTRxvd7"
   },
   "outputs": [],
   "source": [
    "# Base class representing an animal\n",
    "class Animal:\n",
    "    def __init__(self, name):\n",
    "        self.name = name\n",
    "\n",
    "    def sound(self):\n",
    "        pass\n",
    "\n",
    "\n",
    "# Derived class representing a dog (hierarchical inheritance)\n",
    "class Dog(Animal):\n",
    "    def __init__(self, name):\n",
    "        super().__init__(name)\n",
    "\n",
    "    def sound(self):\n",
    "        print(f\"{self.name} barks.\")\n",
    "\n",
    "\n",
    "# Derived class representing a cat (hierarchical inheritance)\n",
    "class Cat(Animal):\n",
    "    def __init__(self, name):\n",
    "        super().__init__(name)\n",
    "\n",
    "    def sound(self):\n",
    "        print(f\"{self.name} meows.\")"
   ]
  },
  {
   "cell_type": "code",
   "execution_count": null,
   "metadata": {
    "id": "_PZmlCRR42b0"
   },
   "outputs": [],
   "source": []
  },
  {
   "cell_type": "code",
   "execution_count": null,
   "metadata": {
    "id": "ZakLrf9bxvd7"
   },
   "outputs": [],
   "source": [
    "## Access Modifiers\n",
    "## public,private and protected\n"
   ]
  },
  {
   "cell_type": "markdown",
   "metadata": {
    "id": "1mZfw5Lt4hY3"
   },
   "source": [
    "## Public Access Modifier:\n",
    "## The members of a class that are declared public are easily accessible from any part of the program. All data members and member functions of a class are public by default."
   ]
  },
  {
   "cell_type": "markdown",
   "metadata": {
    "id": "4C9Dmkz6v_Cg"
   },
   "source": [
    "##Public Access Modifier:\n",
    "Definition: Any variable or method declared in a class is public by default. Public members can be accessed from outside the class, i.e., from any other part of the code, both inside and outside the module.\n",
    "\n",
    "Syntax: Public members are defined without any special symbol or underscore."
   ]
  },
  {
   "cell_type": "code",
   "execution_count": 35,
   "metadata": {
    "colab": {
     "base_uri": "https://localhost:8080/"
    },
    "id": "BSc-1lcAwJhO",
    "outputId": "9080c315-2719-4766-a8d8-b7c93407d167"
   },
   "outputs": [
    {
     "name": "stdout",
     "output_type": "stream",
     "text": [
      "Public Attribute\n",
      "Public Attribute\n"
     ]
    }
   ],
   "source": [
    "class MyClass:\n",
    "    def __init__(self):\n",
    "        self.name = \"Public Attribute\"  # Public attribute\n",
    "\n",
    "    def display(self):\n",
    "        print(self.name)  # Public method\n",
    "\n",
    "obj = MyClass()\n",
    "print(obj.name)  # Accessing public attribute\n",
    "obj.display()    # Accessing public method\n"
   ]
  },
  {
   "cell_type": "code",
   "execution_count": 12,
   "metadata": {
    "id": "AWalfxYKxvd7"
   },
   "outputs": [],
   "source": [
    "class Person:\n",
    "  def __init__(self,name,lastname):\n",
    "    self.name=name\n",
    "    self.lastname=lastname\n",
    "\n",
    "  def display(self):\n",
    "    print(f\"the name is {self.name} and last name is {self.lastname}\")\n"
   ]
  },
  {
   "cell_type": "code",
   "execution_count": 13,
   "metadata": {
    "id": "MjDJGD0-xvd7"
   },
   "outputs": [],
   "source": [
    "person1=Person('Mahipal','Singh')"
   ]
  },
  {
   "cell_type": "code",
   "execution_count": 41,
   "metadata": {
    "colab": {
     "base_uri": "https://localhost:8080/"
    },
    "id": "ySZKznudxdal",
    "outputId": "dd713566-7632-4fd0-a13b-14852c28e36c"
   },
   "outputs": [
    {
     "name": "stdout",
     "output_type": "stream",
     "text": [
      "the name is Mahipal and last name is Singh\n"
     ]
    }
   ],
   "source": [
    "person1.display()"
   ]
  },
  {
   "cell_type": "code",
   "execution_count": 14,
   "metadata": {
    "colab": {
     "base_uri": "https://localhost:8080/"
    },
    "id": "z5fzZsyyxvd7",
    "outputId": "5f629f22-d155-45b6-b8fb-1cbe0b0dae6a"
   },
   "outputs": [
    {
     "data": {
      "text/plain": [
       "['__class__',\n",
       " '__delattr__',\n",
       " '__dict__',\n",
       " '__dir__',\n",
       " '__doc__',\n",
       " '__eq__',\n",
       " '__format__',\n",
       " '__ge__',\n",
       " '__getattribute__',\n",
       " '__gt__',\n",
       " '__hash__',\n",
       " '__init__',\n",
       " '__init_subclass__',\n",
       " '__le__',\n",
       " '__lt__',\n",
       " '__module__',\n",
       " '__ne__',\n",
       " '__new__',\n",
       " '__reduce__',\n",
       " '__reduce_ex__',\n",
       " '__repr__',\n",
       " '__setattr__',\n",
       " '__sizeof__',\n",
       " '__str__',\n",
       " '__subclasshook__',\n",
       " '__weakref__',\n",
       " 'display',\n",
       " 'lastname',\n",
       " 'name']"
      ]
     },
     "execution_count": 14,
     "metadata": {},
     "output_type": "execute_result"
    }
   ],
   "source": [
    "dir(person1)"
   ]
  },
  {
   "cell_type": "markdown",
   "metadata": {
    "id": "3o2TzZJywTxK"
   },
   "source": [
    "#Private Access Modifier:\n",
    "Definition: To restrict access to class members, Python uses a naming convention where members are prefixed with a double underscore (__). These members are intended to be private, meaning they are only accessible within the class itself and cannot be accessed directly from outside the class.\n",
    "\n",
    "Syntax: Private members are declared with a double underscore __ prefix."
   ]
  },
  {
   "cell_type": "code",
   "execution_count": 36,
   "metadata": {
    "colab": {
     "base_uri": "https://localhost:8080/"
    },
    "id": "pdbQGRFuwYwQ",
    "outputId": "757bfbdb-066f-4283-c4d9-3805345b2c44"
   },
   "outputs": [
    {
     "name": "stdout",
     "output_type": "stream",
     "text": [
      "This is a private method\n"
     ]
    }
   ],
   "source": [
    "class MyClass:\n",
    "    def __init__(self):\n",
    "        self.__private_name = \"Private Attribute\"  # Private attribute\n",
    "\n",
    "    def __private_method(self):  # Private method\n",
    "        print(\"This is a private method\")\n",
    "\n",
    "    def access_private_method(self):\n",
    "        self.__private_method()  # Calling the private method inside the class\n",
    "\n",
    "obj = MyClass()\n",
    "\n",
    "# Trying to access private attribute directly (this will cause an error)\n",
    "# print(obj.__private_name)  # AttributeError: 'MyClass' object has no attribute '__private_name'\n",
    "\n",
    "# Accessing private method using public method\n",
    "obj.access_private_method()  # This works because it's done within the class\n"
   ]
  },
  {
   "cell_type": "code",
   "execution_count": 39,
   "metadata": {
    "id": "UQTc-F6LxSai"
   },
   "outputs": [],
   "source": [
    "class_1=MyClass()"
   ]
  },
  {
   "cell_type": "code",
   "execution_count": 40,
   "metadata": {
    "colab": {
     "base_uri": "https://localhost:8080/",
     "height": 141
    },
    "id": "PWftTN-xwzLn",
    "outputId": "f538e0f6-6d03-459e-b87d-1b6791ab9acd"
   },
   "outputs": [
    {
     "ename": "AttributeError",
     "evalue": "'MyClass' object has no attribute '__private_method'",
     "output_type": "error",
     "traceback": [
      "\u001b[0;31m---------------------------------------------------------------------------\u001b[0m",
      "\u001b[0;31mAttributeError\u001b[0m                            Traceback (most recent call last)",
      "\u001b[0;32m<ipython-input-40-336ff0d091b9>\u001b[0m in \u001b[0;36m<cell line: 1>\u001b[0;34m()\u001b[0m\n\u001b[0;32m----> 1\u001b[0;31m \u001b[0mclass_1\u001b[0m\u001b[0;34m.\u001b[0m\u001b[0m__private_method\u001b[0m\u001b[0;34m(\u001b[0m\u001b[0;34m)\u001b[0m\u001b[0;34m\u001b[0m\u001b[0;34m\u001b[0m\u001b[0m\n\u001b[0m",
      "\u001b[0;31mAttributeError\u001b[0m: 'MyClass' object has no attribute '__private_method'"
     ]
    }
   ],
   "source": [
    "class_1.__private_method()"
   ]
  },
  {
   "cell_type": "code",
   "execution_count": null,
   "metadata": {
    "id": "iaZIx-J-xvd7"
   },
   "outputs": [],
   "source": [
    "## Protected Access Modifier"
   ]
  },
  {
   "cell_type": "code",
   "execution_count": 15,
   "metadata": {
    "id": "mbKtlWcVxvd7"
   },
   "outputs": [],
   "source": [
    "# parent class\n",
    "class Student:\n",
    "  # protected attributes\n",
    "  def __init__(self,name,roll):\n",
    "    self._name=name\n",
    "    self._roll=roll\n",
    "\n",
    "  def _display(self):\n",
    "    print(f\" Name is {self._name} and roll number is {self._roll}\")"
   ]
  },
  {
   "cell_type": "code",
   "execution_count": 16,
   "metadata": {
    "id": "exgLeuXexvd7"
   },
   "outputs": [],
   "source": [
    "student=Student(\"Mahipal\",123)"
   ]
  },
  {
   "cell_type": "code",
   "execution_count": 17,
   "metadata": {
    "colab": {
     "base_uri": "https://localhost:8080/"
    },
    "id": "fxFa3UPzxvd8",
    "outputId": "6fd74de6-956b-407a-d1e2-a13fd6c12341"
   },
   "outputs": [
    {
     "data": {
      "text/plain": [
       "['__class__',\n",
       " '__delattr__',\n",
       " '__dict__',\n",
       " '__dir__',\n",
       " '__doc__',\n",
       " '__eq__',\n",
       " '__format__',\n",
       " '__ge__',\n",
       " '__getattribute__',\n",
       " '__gt__',\n",
       " '__hash__',\n",
       " '__init__',\n",
       " '__init_subclass__',\n",
       " '__le__',\n",
       " '__lt__',\n",
       " '__module__',\n",
       " '__ne__',\n",
       " '__new__',\n",
       " '__reduce__',\n",
       " '__reduce_ex__',\n",
       " '__repr__',\n",
       " '__setattr__',\n",
       " '__sizeof__',\n",
       " '__str__',\n",
       " '__subclasshook__',\n",
       " '__weakref__',\n",
       " '_display',\n",
       " '_name',\n",
       " '_roll']"
      ]
     },
     "execution_count": 17,
     "metadata": {},
     "output_type": "execute_result"
    }
   ],
   "source": [
    "dir(student)"
   ]
  },
  {
   "cell_type": "markdown",
   "metadata": {
    "id": "-w24cv7zwsDh"
   },
   "source": [
    "However, it's important to note that Python's private members can still be accessed through name mangling, but it's considered bad practice."
   ]
  },
  {
   "cell_type": "code",
   "execution_count": 37,
   "metadata": {
    "colab": {
     "base_uri": "https://localhost:8080/"
    },
    "id": "TDZCBKe1wrZo",
    "outputId": "d301d7b1-5054-40bd-c7cb-fc072e845a6f"
   },
   "outputs": [
    {
     "name": "stdout",
     "output_type": "stream",
     "text": [
      "Private Attribute\n"
     ]
    }
   ],
   "source": [
    "print(obj._MyClass__private_name)  # Accessing private attribute via name mangling\n"
   ]
  },
  {
   "cell_type": "code",
   "execution_count": 18,
   "metadata": {
    "id": "_u2BXL0-xvd8"
   },
   "outputs": [],
   "source": [
    "class Genius(Student):\n",
    "  def __init__(self,name,roll):\n",
    "    super().__init__(name,roll)\n",
    "\n",
    "  def displaydetails(self):\n",
    "    print(f\"Name is :{self._name}\")\n",
    "    self._display()\n",
    "\n"
   ]
  },
  {
   "cell_type": "code",
   "execution_count": 19,
   "metadata": {
    "colab": {
     "base_uri": "https://localhost:8080/"
    },
    "id": "Fa_F1GLvxvd8",
    "outputId": "26431b54-d418-4c6c-8f04-e7e342d9241c"
   },
   "outputs": [
    {
     "name": "stdout",
     "output_type": "stream",
     "text": [
      "Name is :Mahipal\n",
      " Name is Mahipal and roll number is 123\n"
     ]
    }
   ],
   "source": [
    "genius1=Genius(\"Mahipal\",123)\n",
    "genius1.displaydetails()"
   ]
  },
  {
   "cell_type": "code",
   "execution_count": 20,
   "metadata": {
    "colab": {
     "base_uri": "https://localhost:8080/"
    },
    "id": "JCYdCU7kxvd8",
    "outputId": "d96f3de5-2083-4ac6-d68f-34f1701402ff"
   },
   "outputs": [
    {
     "data": {
      "text/plain": [
       "['__class__',\n",
       " '__delattr__',\n",
       " '__dict__',\n",
       " '__dir__',\n",
       " '__doc__',\n",
       " '__eq__',\n",
       " '__format__',\n",
       " '__ge__',\n",
       " '__getattribute__',\n",
       " '__gt__',\n",
       " '__hash__',\n",
       " '__init__',\n",
       " '__init_subclass__',\n",
       " '__le__',\n",
       " '__lt__',\n",
       " '__module__',\n",
       " '__ne__',\n",
       " '__new__',\n",
       " '__reduce__',\n",
       " '__reduce_ex__',\n",
       " '__repr__',\n",
       " '__setattr__',\n",
       " '__sizeof__',\n",
       " '__str__',\n",
       " '__subclasshook__',\n",
       " '__weakref__',\n",
       " '_display',\n",
       " '_name',\n",
       " '_roll',\n",
       " 'displaydetails']"
      ]
     },
     "execution_count": 20,
     "metadata": {},
     "output_type": "execute_result"
    }
   ],
   "source": [
    "dir(genius1)"
   ]
  },
  {
   "cell_type": "code",
   "execution_count": 21,
   "metadata": {
    "colab": {
     "base_uri": "https://localhost:8080/"
    },
    "id": "ydLNGtwSxvd8",
    "outputId": "c0058f90-2344-4b8d-8563-f066c7992ca7"
   },
   "outputs": [
    {
     "name": "stdout",
     "output_type": "stream",
     "text": [
      " Name is Mahipal and roll number is 123\n"
     ]
    }
   ],
   "source": [
    "genius1._display()"
   ]
  },
  {
   "cell_type": "code",
   "execution_count": 22,
   "metadata": {
    "id": "XFWDL2hoxvd8"
   },
   "outputs": [],
   "source": [
    "# parent class\n",
    "class Student:\n",
    "  # private attributes\n",
    "  def __init__(self,name,roll):\n",
    "    self.__name=name\n",
    "    self.__roll=roll\n",
    "\n",
    "  def __display(self):\n",
    "    print(f\" Name is {self.__name} and roll number is {self.__roll}\")\n",
    "\n",
    "  def display(self):\n",
    "    self.__display()"
   ]
  },
  {
   "cell_type": "code",
   "execution_count": 23,
   "metadata": {
    "id": "XK3OVdaaB5Yg"
   },
   "outputs": [],
   "source": [
    "class Genius(Student):\n",
    "  def __init__(self,name,roll,subject):\n",
    "    super().__init__(name,roll)\n",
    "    self.subject=subject"
   ]
  },
  {
   "cell_type": "code",
   "execution_count": 25,
   "metadata": {
    "id": "opXSDQMuCIf_"
   },
   "outputs": [],
   "source": [
    "genius=Genius(\"Mahipal\",123,'AI')"
   ]
  },
  {
   "cell_type": "code",
   "execution_count": 26,
   "metadata": {
    "colab": {
     "base_uri": "https://localhost:8080/"
    },
    "id": "DO_xdcwMCS-0",
    "outputId": "34294969-cdcf-411c-8c99-2b02ec9ec401"
   },
   "outputs": [
    {
     "data": {
      "text/plain": [
       "['_Student__display',\n",
       " '_Student__name',\n",
       " '_Student__roll',\n",
       " '__class__',\n",
       " '__delattr__',\n",
       " '__dict__',\n",
       " '__dir__',\n",
       " '__doc__',\n",
       " '__eq__',\n",
       " '__format__',\n",
       " '__ge__',\n",
       " '__getattribute__',\n",
       " '__gt__',\n",
       " '__hash__',\n",
       " '__init__',\n",
       " '__init_subclass__',\n",
       " '__le__',\n",
       " '__lt__',\n",
       " '__module__',\n",
       " '__ne__',\n",
       " '__new__',\n",
       " '__reduce__',\n",
       " '__reduce_ex__',\n",
       " '__repr__',\n",
       " '__setattr__',\n",
       " '__sizeof__',\n",
       " '__str__',\n",
       " '__subclasshook__',\n",
       " '__weakref__',\n",
       " 'display',\n",
       " 'subject']"
      ]
     },
     "execution_count": 26,
     "metadata": {},
     "output_type": "execute_result"
    }
   ],
   "source": [
    "dir(genius)"
   ]
  },
  {
   "cell_type": "code",
   "execution_count": 28,
   "metadata": {
    "id": "Jkyoo0XQ-PbW"
   },
   "outputs": [],
   "source": [
    "student1=Student(\"Mahipal\",123)"
   ]
  },
  {
   "cell_type": "code",
   "execution_count": 29,
   "metadata": {
    "colab": {
     "base_uri": "https://localhost:8080/"
    },
    "id": "B19LVUcj-TCj",
    "outputId": "190c5e6c-10c3-45c3-fdbd-9845e95a6c7e"
   },
   "outputs": [
    {
     "data": {
      "text/plain": [
       "['_Student__display',\n",
       " '_Student__name',\n",
       " '_Student__roll',\n",
       " '__class__',\n",
       " '__delattr__',\n",
       " '__dict__',\n",
       " '__dir__',\n",
       " '__doc__',\n",
       " '__eq__',\n",
       " '__format__',\n",
       " '__ge__',\n",
       " '__getattribute__',\n",
       " '__gt__',\n",
       " '__hash__',\n",
       " '__init__',\n",
       " '__init_subclass__',\n",
       " '__le__',\n",
       " '__lt__',\n",
       " '__module__',\n",
       " '__ne__',\n",
       " '__new__',\n",
       " '__reduce__',\n",
       " '__reduce_ex__',\n",
       " '__repr__',\n",
       " '__setattr__',\n",
       " '__sizeof__',\n",
       " '__str__',\n",
       " '__subclasshook__',\n",
       " '__weakref__',\n",
       " 'display']"
      ]
     },
     "execution_count": 29,
     "metadata": {},
     "output_type": "execute_result"
    }
   ],
   "source": [
    "dir(student1)"
   ]
  },
  {
   "cell_type": "code",
   "execution_count": 30,
   "metadata": {
    "id": "0ZJi5w_K-eb1"
   },
   "outputs": [],
   "source": [
    "student1._Student__name=\"MahipalS\""
   ]
  },
  {
   "cell_type": "code",
   "execution_count": 31,
   "metadata": {
    "id": "sNYEa93l-XbN"
   },
   "outputs": [],
   "source": [
    "## Polymorphism\n",
    "## multiple forms\n",
    "\n",
    "class Animal:\n",
    "  def __init__(self,name):\n",
    "    self.name=name\n",
    "\n",
    "  def make_sound(self):\n",
    "    return \"Generic Voice\"\n",
    "\n",
    "class Dog(Animal):\n",
    "\n",
    "  def make_sound(self):\n",
    "    return \"Woof\"\n",
    "\n",
    "class Cat(Animal):\n",
    "    def make_sound(self):\n",
    "        return \"Meow!\"\n",
    "\n"
   ]
  },
  {
   "cell_type": "code",
   "execution_count": 32,
   "metadata": {
    "colab": {
     "base_uri": "https://localhost:8080/",
     "height": 36
    },
    "id": "fvt8fh6QEE76",
    "outputId": "70448d2a-32f9-499b-aba8-fe4c8cde1f3a"
   },
   "outputs": [
    {
     "data": {
      "application/vnd.google.colaboratory.intrinsic+json": {
       "type": "string"
      },
      "text/plain": [
       "'Meow!'"
      ]
     },
     "execution_count": 32,
     "metadata": {},
     "output_type": "execute_result"
    }
   ],
   "source": [
    "cat=Cat('Tom')\n",
    "\n",
    "cat.make_sound()"
   ]
  },
  {
   "cell_type": "code",
   "execution_count": 33,
   "metadata": {
    "colab": {
     "base_uri": "https://localhost:8080/",
     "height": 36
    },
    "id": "pBwZhe75EpSC",
    "outputId": "cde0587b-3c49-4b9d-d80f-b5927fa70978"
   },
   "outputs": [
    {
     "data": {
      "application/vnd.google.colaboratory.intrinsic+json": {
       "type": "string"
      },
      "text/plain": [
       "'Woof'"
      ]
     },
     "execution_count": 33,
     "metadata": {},
     "output_type": "execute_result"
    }
   ],
   "source": [
    "dog=Dog(\"Scooby\")\n",
    "dog.make_sound()"
   ]
  },
  {
   "cell_type": "code",
   "execution_count": 34,
   "metadata": {
    "colab": {
     "base_uri": "https://localhost:8080/",
     "height": 36
    },
    "id": "_zgVCO30FPOA",
    "outputId": "0a3e6790-9625-4ecf-9d28-b4aada2045ef"
   },
   "outputs": [
    {
     "data": {
      "application/vnd.google.colaboratory.intrinsic+json": {
       "type": "string"
      },
      "text/plain": [
       "'Generic Voice'"
      ]
     },
     "execution_count": 34,
     "metadata": {},
     "output_type": "execute_result"
    }
   ],
   "source": [
    "Animal('generic animal').make_sound()"
   ]
  },
  {
   "cell_type": "code",
   "execution_count": null,
   "metadata": {
    "id": "s8NPAfOHFaug"
   },
   "outputs": [],
   "source": []
  },
  {
   "cell_type": "markdown",
   "metadata": {
    "id": "MaGV6sJnF3Ix"
   },
   "source": [
    "## Assignments\n",
    "\n",
    "1. the `Person` class has a constructor that takes `name` and `age` as arguments and assigns them to the object's attributes. The `introduce` method is then invoked on the object to introduce the person.\n",
    "\n",
    "2. the `Car` class has a constructor that takes `brand` and `model` as arguments and assigns them to the object's attributes. The `display_info` method is then invoked on the object to display the car's brand and model.\n",
    "\n",
    "3. the `BankAccount` class has a constructor that takes `account_number` and `balance` as arguments and assigns them to the object's attributes. The `display_balance` method is then invoked on the object to display the account number and balance.\n",
    "\n",
    "4.  the `MobilePhone` class has a constructor that takes `brand` and `model` as arguments and assigns them to the object's attributes. The `make_call` method is then invoked on the object to make a call with the phone.\n",
    "\n",
    "5. the `Book` class has a constructor that takes `title` and `author` as arguments and assigns them to the object's attributes. The `display_info` method is then invoked on the object to display the book's title and author.\n",
    "\n",
    "6. Vehicles: Create a base class called Vehicle with attributes such as make, model, and year. Implement two subclasses Car and Motorcycle that inherit from Vehicle. Add additional methods to the subclasses, such as start_engine() and stop_engine(), and handle any specific behavior or rules for each vehicle type.\n",
    "\n",
    "7. Animals: Create a base class called Animal with methods such as eat() and sleep(). Implement two subclasses Dog and Cat that inherit from Animal. Add additional methods to the subclasses, such as bark() for dogs and meow() for cats, and handle any specific behavior or rules for each animal type.\n",
    "\n",
    "8. Library Catalog: Create a base class called LibraryItem with attributes such as title, author, and publication_year. Implement two subclasses Book and Magazine that inherit from LibraryItem. Add additional methods to the subclasses, such as checkout() and return_item(), and handle any specific behavior or rules for each item type.\n",
    "\n",
    "9. Employees and Departments: Create a base class called Employee with attributes such as name, salary, and department. Implement two subclasses Manager and Staff that inherit from Employee. Add additional methods to the subclasses, such as assign_task() for managers and attend_meeting() for staff members. Create a separate class called Department that contains a list of employees and methods to add or remove employees from the department.\n",
    "\n",
    "10. Bank Transactions: Create a base class called BankAccount with attributes such as account_number and balance. Implement subclasses for different types of accounts such as CheckingAccount and SavingsAccount that inherit from BankAccount. Add additional methods to the subclasses, such as withdraw() and deposit(), and handle any specific behavior or rules for each account type.\n",
    "\n",
    "11. School Management System: Create a base class called Person with attributes such as name, age, and address. Implement subclasses for different roles such as Student, Teacher, and Staff that inherit from Person. Add additional methods to the subclasses, such as take_exam() for students and teach_subject() for teachers."
   ]
  },
  {
   "cell_type": "code",
   "execution_count": 38,
   "metadata": {
    "id": "iSFgLL77HCOZ"
   },
   "outputs": [
    {
     "name": "stdin",
     "output_type": "stream",
     "text": [
      "please enter your name: loki\n",
      "please enter your age: 56\n"
     ]
    },
    {
     "name": "stdout",
     "output_type": "stream",
     "text": [
      "Hi there, your name is loki and your age is 56\n"
     ]
    }
   ],
   "source": [
    "# Ans 1.\n",
    "\n",
    "class person:\n",
    "    def __init__(self,name,age):\n",
    "        self.name = name\n",
    "        self.age = age\n",
    "\n",
    "    def introduction(self):\n",
    "        print(\"Hi there, your name is\", self.name, \"and your age is\", self.age)\n",
    "        \n",
    "name = input(\"please enter your name:\")\n",
    "age = input(\"please enter your age:\")\n",
    "\n",
    "son = person(name,age)\n",
    "\n",
    "son.introduction()\n",
    "    "
   ]
  },
  {
   "cell_type": "code",
   "execution_count": 44,
   "metadata": {},
   "outputs": [
    {
     "name": "stdin",
     "output_type": "stream",
     "text": [
      "Please Enter The Car Model: m340i\n",
      "Please Enter The Car Brand: bmw\n"
     ]
    },
    {
     "name": "stdout",
     "output_type": "stream",
     "text": [
      "Your car brand is: bmw And model is: m340i\n"
     ]
    }
   ],
   "source": [
    "# Ans 2.\n",
    "    \n",
    "class Car:\n",
    "    def __init__(self,model,brand):\n",
    "        self.model = model\n",
    "        self.brand = brand\n",
    "\n",
    "    def display_info(self):\n",
    "        print(\"Your car brand is:\", self.brand, \"And model is:\", self.model)\n",
    "\n",
    "model = input(\"Please Enter The Car Model:\")\n",
    "brand = input(\"Please Enter The Car Brand:\")\n",
    "\n",
    "car = Car(model,brand)\n",
    "\n",
    "car.display_info()"
   ]
  },
  {
   "cell_type": "code",
   "execution_count": 24,
   "metadata": {},
   "outputs": [
    {
     "name": "stdin",
     "output_type": "stream",
     "text": [
      "please enter your account number: 6457777\n",
      "please enter account balance: 12345658758587687\n"
     ]
    },
    {
     "name": "stdout",
     "output_type": "stream",
     "text": [
      "your account number is: 6457777 and your balance is: 12345658758587687\n"
     ]
    }
   ],
   "source": [
    "# Ans 3\n",
    "\n",
    "class BankAccount:\n",
    "    def __init__(self,acc_number,balance):\n",
    "        self.acc_number = acc_number\n",
    "        self.balance = balance \n",
    "\n",
    "    def display_balance(self):\n",
    "        print(\"your account number is:\", self.acc_number, \"and your balance is:\", self.balance)\n",
    "\n",
    "acc_number = input(\"please enter your account number:\")\n",
    "balance = input(\"please enter account balance:\")\n",
    "\n",
    "bank = BankAccount(acc_number,balance)\n",
    "\n",
    "bank.display_balance()"
   ]
  },
  {
   "cell_type": "code",
   "execution_count": 4,
   "metadata": {},
   "outputs": [
    {
     "name": "stdin",
     "output_type": "stream",
     "text": [
      "Please enter your mobile phone brand: ititiuyiuy\n",
      "plese enter your mobile phone model: tryutryutiy\n",
      "please enter phone number you want to call: truryut\n"
     ]
    },
    {
     "name": "stdout",
     "output_type": "stream",
     "text": [
      "calling truryut with ititiuyiuy tryutryutiy\n"
     ]
    }
   ],
   "source": [
    "# Ans 4.\n",
    "\n",
    "class MobilePhone:\n",
    "    def __init__(self,brand,model,phonenumber):\n",
    "        self.brand = brand\n",
    "        self.model = model\n",
    "        self.phonenumber = phonenumber\n",
    "\n",
    "    def make_call(self):\n",
    "        print(\"calling\", self.phonenumber, \"with\", self.brand, self.model)\n",
    "\n",
    "brand = input(\"Please enter your mobile phone brand:\")\n",
    "model = input(\"plese enter your mobile phone model:\")\n",
    "phonenumber = input(\"please enter phone number you want to call:\")\n",
    "\n",
    "mobile = MobilePhone(brand,model,phonenumber)\n",
    "\n",
    "mobile.make_call()"
   ]
  },
  {
   "cell_type": "code",
   "execution_count": 26,
   "metadata": {},
   "outputs": [
    {
     "name": "stdin",
     "output_type": "stream",
     "text": [
      "Please Enter The Car Model: kjlkj\n",
      "Please Enter The Car Brand: sfsf\n"
     ]
    },
    {
     "name": "stdout",
     "output_type": "stream",
     "text": [
      "The book name is: kjlkj And it's author is: sfsf\n"
     ]
    }
   ],
   "source": [
    "# Ans5\n",
    "\n",
    "class Book:\n",
    "    def __init__(self,title,author):\n",
    "        self.title = title\n",
    "        self.author = author\n",
    "\n",
    "    def display_info(self):\n",
    "        print(\"The book name is:\", self.title, \"And it's author is:\", self.author)\n",
    "\n",
    "title = input(\"Please Enter The Car Model:\")\n",
    "author = input(\"Please Enter The Car Brand:\")\n",
    "\n",
    "book = Book(title,author)\n",
    "\n",
    "book.display_info()"
   ]
  },
  {
   "cell_type": "code",
   "execution_count": 18,
   "metadata": {},
   "outputs": [
    {
     "name": "stdin",
     "output_type": "stream",
     "text": [
      "please enter brand name: bmw\n",
      "please enter model: m340i\n",
      "please enter model year: 2024\n"
     ]
    },
    {
     "name": "stdout",
     "output_type": "stream",
     "text": [
      "the engine of the m340i is now starting\n",
      "the m340i says honk honk\n",
      "the engine of the m340i is now starting\n",
      "the engine of the m340i is now starting\n",
      "the m340i revs its engine: vroom vroom\n",
      "the engine of the m340i is now starting\n"
     ]
    }
   ],
   "source": [
    "# ans 6.\n",
    "\n",
    "class Vehicles:\n",
    "    def __init__(self,brand,model,year):\n",
    "        self.brand = brand\n",
    "        self.model = model\n",
    "        self.year = year\n",
    "\n",
    "brand = input(\"please enter brand name:\")\n",
    "model = input(\"please enter model:\")\n",
    "year = input(\"please enter model year:\")\n",
    "\n",
    "class Motorcycle(Vehicles):\n",
    "    def __init__(self,brand,model,year):\n",
    "        super().__init__(brand,model,year)\n",
    "\n",
    "    def honk(self):\n",
    "        print(\"the\", self.model, \"says honk honk\")\n",
    "\n",
    "    def rev_engine(self):\n",
    "        print( \"the\", self.model, \"revs its engine: vroom vroom\")\n",
    "\n",
    "    def start_engine(self):\n",
    "        print(\"the engine of the\", self.model, \"is now starting\")\n",
    "        \n",
    "    def stop_engine(self):\n",
    "        print(\"the engine of the\", self.model, \"is now starting\")\n",
    "\n",
    "\n",
    "class Car(Vehicles):\n",
    "    def __init__(self,brand,model,year):\n",
    "        super().__init__(brand,model,year)\n",
    "\n",
    "    def honk(self):\n",
    "        print(\"the\", self.model, \"says honk honk\")\n",
    "\n",
    "    def rev_engine(self):\n",
    "        print( \"the\", self.model, \"revs its engine: vroom vroom\")\n",
    "\n",
    "    def start_engine(self):\n",
    "        print(\"the engine of the\", self.model, \"is now starting\")\n",
    "        \n",
    "    def stop_engine(self):\n",
    "        print(\"the engine of the\", self.model, \"is now starting\")\n",
    "\n",
    "car = Car(brand,model,year)\n",
    "motorcycle = Motorcycle(brand,model,year)\n",
    "        \n",
    "car.start_engine()\n",
    "car.honk()\n",
    "car.stop_engine()\n",
    "\n",
    "motorcycle.start_engine()\n",
    "motorcycle.rev_engine()\n",
    "motorcycle.stop_engine()"
   ]
  },
  {
   "cell_type": "code",
   "execution_count": 30,
   "metadata": {},
   "outputs": [
    {
     "name": "stdin",
     "output_type": "stream",
     "text": [
      "Enter the animal name: kjkjh\n"
     ]
    },
    {
     "name": "stdout",
     "output_type": "stream",
     "text": [
      "The kjkjh says meow meow\n"
     ]
    }
   ],
   "source": [
    "# Ans 7.\n",
    "\n",
    "class Animal:\n",
    "    def __init__(self,animals):\n",
    "        self.animals = animals\n",
    "\n",
    "    def eat(self):\n",
    "        print(\"The\", self.animals, \"is eating\")\n",
    "\n",
    "    def sleep(self):\n",
    "        print(\"The\", self.animals, \"is sleeping\")\n",
    "\n",
    "animals = input(\"Enter the animal name:\")\n",
    "\n",
    "class cat(Animal):\n",
    "    def __init__(self,animals):\n",
    "        super().__init__(animals)\n",
    "        \n",
    "    def meow(self):\n",
    "        print(\"The\", self.animals, \"says meow meow\")\n",
    "\n",
    "class dog(Animal):\n",
    "    def __init__(self,animals):\n",
    "        super().__init__(animals)\n",
    "\n",
    "    def bark(self):\n",
    "        print(\"The\",self.animals, \"barks woof woof\")\n",
    "\n",
    "Cat = cat(animals)\n",
    "\n",
    "Cat.meow()\n",
    "  \n",
    "    "
   ]
  },
  {
   "cell_type": "code",
   "execution_count": 8,
   "metadata": {},
   "outputs": [
    {
     "name": "stdin",
     "output_type": "stream",
     "text": [
      "Enter the title of book: jlkj\n",
      "Enter the authors name: lkjlkj\n",
      "Enter the publsih year of the book: kjlkj\n"
     ]
    },
    {
     "name": "stdout",
     "output_type": "stream",
     "text": [
      "The jlkj has been checked out\n",
      "remember to return the book within 10 days\n",
      "The jlkj has been checked out\n",
      "remember to return the magazine within 5 days\n"
     ]
    }
   ],
   "source": [
    "# Ans 8.\n",
    "\n",
    "class LibraryItem:\n",
    "    def __init__(self,title,author,publish_year):\n",
    "        self.title = title\n",
    "        self.author = author\n",
    "        self.publish_year = publish_year\n",
    "\n",
    "title = input(\"Enter the title of book:\")\n",
    "author = input(\"Enter the authors name:\")\n",
    "publish_year = input(\"Enter the publsih year of the book:\")\n",
    "\n",
    "\n",
    "class Book(LibraryItem):\n",
    "    def __init__(self,title,auhtor,publish_year):\n",
    "        super().__init__(title,author,publish_year)\n",
    "\n",
    "    def checkout(self):\n",
    "        print(\"The\", self.title, \"has been checked out\")\n",
    "        print(\"remember to return the book within 10 days\")\n",
    "\n",
    "    def Return(self):\n",
    "        print(\"The\", self.title, \"has been returned\") \n",
    "\n",
    "class Magazine(LibraryItem):\n",
    "    def __init__(self,title,auhtor,publish_year):\n",
    "        super().__init__(title,author,publish_year)\n",
    "\n",
    "    def checkout(self):\n",
    "        print(\"The\", self.title, \"has been checked out\")\n",
    "        print(\"remember to return the magazine within 5 days\")\n",
    "\n",
    "    def Return(self):\n",
    "        print(\"The\", self.title, \"has been returned\")  \n",
    "\n",
    "    \n",
    "        \n",
    "book = Book(title,author,publish_year)      \n",
    "magazine = Magazine(title,author,publish_year) \n",
    "\n",
    "\n",
    "book.checkout()\n",
    "magazine.checkout()                    \n",
    "                    \n",
    "        "
   ]
  },
  {
   "cell_type": "code",
   "execution_count": 4,
   "metadata": {},
   "outputs": [
    {
     "name": "stdin",
     "output_type": "stream",
     "text": [
      "Enter your name: jkljlkj\n",
      "please enter your monthly salary: 98787\n",
      "please enter your department: it\n",
      "please enter the name: lokendra\n"
     ]
    },
    {
     "name": "stdout",
     "output_type": "stream",
     "text": [
      "lokendra has been added to the department\n",
      "['lokendra']\n"
     ]
    }
   ],
   "source": [
    "# Ans 9.\n",
    "\n",
    "class Employee:\n",
    "    def __init__(self,name,salary,department):\n",
    "        self.name = name\n",
    "        self.salary = salary\n",
    "        self.department = department\n",
    "\n",
    "    def info(self):\n",
    "        print(self.name, \"works in\", self.department, \"with the salary of\", self.salary)\n",
    "\n",
    "name = input(\"Enter your name:\")\n",
    "salary = input(\"please enter your monthly salary:\")\n",
    "department = input(\"please enter your department:\")\n",
    "\n",
    "class Manager(Employee):\n",
    "    def __init__(self,name,salary,department):\n",
    "        super().__init__(name,salary,department)\n",
    "\n",
    "    def assign_task(self):\n",
    "        print(\"The manager has assigned\", self.name, \"a task\")\n",
    "\n",
    "class Staff(Employee):\n",
    "    def __init__(self,name,salary,department):\n",
    "        super().__init__(name,salary,department)\n",
    "\n",
    "    def attend_meeting(self):\n",
    "        print(\"The\",self.name, \"is attending a meeting\")\n",
    "\n",
    "\n",
    "class Department:\n",
    "    def __init__(self,):\n",
    "        self.employee_list = []\n",
    "\n",
    "    def add_employee(self,employee_name):\n",
    "        self.employee_name = employee_name\n",
    "        self.employee_list.append(employee_name)\n",
    "        print(self.employee_name, \"has been added to the department\")\n",
    "\n",
    "    def remove_employee(self,employee_name):\n",
    "        self.employee_name = employee_name\n",
    "        self.employee_list.remove(employee_name)\n",
    "        print(self.employee_name, \"has been fired from the department\")\n",
    "\n",
    "    def view_staff(self):\n",
    "        print(self.employee_list)\n",
    "\n",
    "employee_name =input(\"please enter the name:\")\n",
    "\n",
    "department = Department()\n",
    "department.add_employee(employee_name)\n",
    "department.view_staff()\n",
    "# department.remove_employee(employee_name)\n",
    "# department.add_employee(employee_name)\n",
    "# department.add_employee(employee_name)\n",
    "# department.add_employee(employee_name)\n",
    "# department.view_staff()\n"
   ]
  },
  {
   "cell_type": "code",
   "execution_count": 29,
   "metadata": {},
   "outputs": [
    {
     "name": "stdout",
     "output_type": "stream",
     "text": [
      "900 has been credited in brkgb45555\n",
      "700 has been debited from account: brkgb45555\n"
     ]
    },
    {
     "data": {
      "text/plain": [
       "280"
      ]
     },
     "execution_count": 29,
     "metadata": {},
     "output_type": "execute_result"
    }
   ],
   "source": [
    "# Ans 10.\n",
    "\n",
    "class BankAccount:\n",
    "    def __init__(self,account_number,balance=0.0):\n",
    "        self.account_number = account_number\n",
    "        self.balance = balance\n",
    "\n",
    "    def get_balance(self):\n",
    "        return self.balance\n",
    "\n",
    "# account_number = (input(\"please enter your account number:\"))\n",
    "\n",
    "\n",
    "class Checkingaccount(BankAccount):\n",
    "    def __init__(self,account_number,balance=0.0):\n",
    "        super().__init__(account_number,balance)\n",
    "\n",
    "    def deposit(self,amount):\n",
    "        self.amount = amount\n",
    "        \n",
    "        if amount > 0:\n",
    "            self.balance += amount\n",
    "            print(self.amount, \"has been credited in\",self.account_number,)\n",
    "\n",
    "        else:\n",
    "            print(\"please enter correct value\")\n",
    "\n",
    "    def withdraw(self,amount):\n",
    "        self.amount = amount\n",
    "        \n",
    "        if amount <= self.balance:\n",
    "            self.balance -= amount\n",
    "            print(self.amount, \"has been debited from account:\", self.account_number)\n",
    "\n",
    "        else:\n",
    "            print(\"please enter correct value\")\n",
    "\n",
    "\n",
    "class Savings_Account(BankAccount):\n",
    "    def __init__(self,account_number,balance=0.0):\n",
    "        super().__init__(account_number,balance)\n",
    "\n",
    "    def deposit(self,amount):\n",
    "        self.amount = amount\n",
    "        \n",
    "        if amount > 0:\n",
    "            self.balance += amount\n",
    "            print(self.amount, \"has been credited in\",self.account_number,)\n",
    "\n",
    "        else:\n",
    "            print(\"please enter correct value\")\n",
    "\n",
    "    def withdraw(self,amount):\n",
    "        self.amount = amount\n",
    "        \n",
    "        if amount <= self.balance:\n",
    "            self.balance -= amount\n",
    "            print(self.amount, \"has been debited from account:\", self.account_number)\n",
    "\n",
    "        else:\n",
    "            print(\"please enter correct value\")\n",
    "\n",
    "\n",
    "checking = Checkingaccount('brkgb45555',80)\n",
    "checking.deposit(900)\n",
    "checking.get_balance()\n",
    "checking.withdraw(700)\n",
    "checking.get_balance()"
   ]
  },
  {
   "cell_type": "code",
   "execution_count": null,
   "metadata": {},
   "outputs": [],
   "source": [
    "School Management System: Create a base class called Person with attributes such as name, age, and address. \n",
    "Implement subclasses for different roles such as Student, Teacher, and Staff that inherit from Person.\n",
    "Add additional methods to the subclasses, such as take_exam() for students and teach_subject() for teachers.\n",
    "\n"
   ]
  },
  {
   "cell_type": "code",
   "execution_count": 76,
   "metadata": {},
   "outputs": [
    {
     "name": "stdout",
     "output_type": "stream",
     "text": [
      "loki give your exam\n"
     ]
    }
   ],
   "source": [
    "# Ans 11\n",
    "\n",
    "class Person:\n",
    "    def __init__(self,name,age,address):\n",
    "        self.name = name\n",
    "        self.age = age\n",
    "        self.address = address\n",
    "\n",
    "    def info(self):\n",
    "        print(\"Hello!\", self.name,\"your age is:\", self.age, \"and your address is:\", self.address) \n",
    "\n",
    "# name =  input(\"please enter your name:\")\n",
    "# age = input(\"Enter your age:\")\n",
    "# address = input(\"Enter your address:\")\n",
    "\n",
    "class Student(Person):\n",
    "    def __init__(self,name,age,address):\n",
    "        super().__init__(name,age,address)\n",
    "        \n",
    "    def take_exam(self,child_name):\n",
    "        self.child_name = child_name\n",
    "        print(self.child_name,\"give your exam\")\n",
    "\n",
    "class Teachers(Person):\n",
    "    def __init__(self,teacher_name,subject):\n",
    "        self.teacher_name = teacher_name\n",
    "        self.subject = subject\n",
    "\n",
    "    def teach_subject(self,teacher_name,subject):\n",
    "        print(self.teacher, \"teach your respective subject:\", self.subject)\n",
    "\n",
    "\n",
    "student_1 = Student(\"lokendra\",\"21\",\"alwar\")\n",
    "student_1.take_exam(\"loki\")\n"
   ]
  },
  {
   "cell_type": "code",
   "execution_count": null,
   "metadata": {},
   "outputs": [],
   "source": []
  }
 ],
 "metadata": {
  "colab": {
   "provenance": []
  },
  "kernelspec": {
   "display_name": "Python 3 (ipykernel)",
   "language": "python",
   "name": "python3"
  },
  "language_info": {
   "codemirror_mode": {
    "name": "ipython",
    "version": 3
   },
   "file_extension": ".py",
   "mimetype": "text/x-python",
   "name": "python",
   "nbconvert_exporter": "python",
   "pygments_lexer": "ipython3",
   "version": "3.12.4"
  }
 },
 "nbformat": 4,
 "nbformat_minor": 4
}
